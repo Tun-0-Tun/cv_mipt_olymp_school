{
 "cells": [
  {
   "cell_type": "code",
   "execution_count": null,
   "metadata": {},
   "outputs": [],
   "source": [
    "from sklearn.datasets import fetch_olivetti_faces\n",
    "from sklearn.metrics import mean_squared_error\n",
    "\n",
    "import numpy as np\n",
    "import matplotlib.pyplot as plt"
   ]
  },
  {
   "cell_type": "markdown",
   "metadata": {},
   "source": [
    "# Домашнее задание 1\n",
    "\n",
    "В задаче необходимо по верхней части лица восстановить нижнюю половину\n",
    "\n",
    "Ответы нужно записывать в эту [Форму](https://docs.google.com/forms/d/e/1FAIpQLSe73XPxLHz49iSh7849jxbbNpv0wCTUbDYz1lBaD44J431NTA/viewform)\n"
   ]
  },
  {
   "cell_type": "code",
   "execution_count": null,
   "metadata": {},
   "outputs": [],
   "source": [
    "# Загружаем наборы данных\n",
    "data = fetch_olivetti_faces(random_state=18)\n",
    "targets = data.target\n",
    "\n",
    "data = data.images.reshape((len(data.images), -1))\n",
    "train = data[targets < 30]\n",
    "test = data[targets >= 30]"
   ]
  },
  {
   "cell_type": "code",
   "execution_count": null,
   "metadata": {},
   "outputs": [],
   "source": [
    "# Посмотрим на размеры выборок:\n",
    "train.shape, test.shape"
   ]
  },
  {
   "cell_type": "code",
   "execution_count": null,
   "metadata": {},
   "outputs": [],
   "source": [
    "n_pixels = data.shape[1]\n",
    "# Верхняя половина лиц\n",
    "X_train = train[:, :(n_pixels + 1) // 2]\n",
    "X_test = test[:, :(n_pixels + 1) // 2]\n",
    "\n",
    "\n",
    "# Нижняя половина лиц\n",
    "y_train = train[:, n_pixels // 2:]\n",
    "y_test = test[:, n_pixels // 2:]"
   ]
  },
  {
   "cell_type": "code",
   "execution_count": null,
   "metadata": {},
   "outputs": [],
   "source": [
    "# Нарисуем случайное лицо: \n",
    "n = np.random.randint(300)\n",
    "view = np.hstack((X_train[n], y_train[n]))\n",
    "plt.imshow(view.reshape(64,64), cmap='gray')\n",
    "plt.show()"
   ]
  },
  {
   "cell_type": "code",
   "execution_count": null,
   "metadata": {},
   "outputs": [],
   "source": [
    "# Нарисуем Среднее лицо (Не забывайте использовать параметр axis при применении np.mean): \n",
    "mean_top = #Ваш код здесь\n",
    "mean_bottom = #Ваш код здесь\n",
    "\n",
    "view = np.hstack((mean_top, mean_bottom ))\n",
    "plt.imshow(view.reshape(64,64), cmap='gray')\n",
    "plt.show()"
   ]
  },
  {
   "cell_type": "code",
   "execution_count": null,
   "metadata": {},
   "outputs": [],
   "source": [
    "# Нарисуем случайную половину верха лица из теста и дополним его средним значением: \n",
    "\n",
    "n = np.random.randint(100)\n",
    "\n",
    "fig, (ax1, ax2) = plt.subplots(\n",
    "    nrows=1, ncols=2,\n",
    "    figsize=(8, 4)\n",
    ")\n",
    "\n",
    "\n",
    "view = np.hstack((X_test[n], y_test[n]))\n",
    "ax1.imshow(view.reshape(64,64), cmap='gray')\n",
    "ax1.set_title(\"Истинное лицо\")\n",
    "\n",
    "view = np.hstack((X_test[n], mean_bottom))\n",
    "ax2.imshow(view.reshape(64,64), cmap='gray')\n",
    "ax2.set_title('Среднее значение')\n",
    "\n",
    "\n",
    "plt.show()"
   ]
  },
  {
   "cell_type": "markdown",
   "metadata": {},
   "source": [
    "Перезапустите несколько раз ячейку сверху, на сколько \"среднее\" лицо похоже на правду?  \n",
    "\n",
    "## Задание 1: \n",
    "Давайте посчитаем ошибку mean_squared_error на тесте, если отвечать всегда средним лицом (mean_bottom) полученном на трейне? \n",
    "[Форму](https://docs.google.com/forms/d/e/1FAIpQLSe73XPxLHz49iSh7849jxbbNpv0wCTUbDYz1lBaD44J431NTA/viewform)"
   ]
  },
  {
   "cell_type": "code",
   "execution_count": null,
   "metadata": {},
   "outputs": [],
   "source": [
    "#Ваш код здесь"
   ]
  },
  {
   "cell_type": "markdown",
   "metadata": {},
   "source": [
    "## Задание 2\n",
    "\n",
    "Мы решаем задачу регрессии: Нам нужно восстановить 2048 (нижняя половина) чисел. \n",
    "Воспользуемся для этого методом ближайших соседей"
   ]
  },
  {
   "cell_type": "code",
   "execution_count": null,
   "metadata": {},
   "outputs": [],
   "source": [
    "from sklearn.neighbors import KNeighborsRegressor"
   ]
  },
  {
   "cell_type": "code",
   "execution_count": null,
   "metadata": {},
   "outputs": [],
   "source": [
    "knn = KNeighborsRegressor()\n",
    "#Ваш код здесь\n",
    "pred = #Ваш код здесь для предсказания значений"
   ]
  },
  {
   "cell_type": "markdown",
   "metadata": {},
   "source": [
    "Сравним, насколько лучше выглядит \"востановленное\" лицо "
   ]
  },
  {
   "cell_type": "code",
   "execution_count": null,
   "metadata": {},
   "outputs": [],
   "source": [
    "# Нарисуем случайную половину верха лица из теста и дополним его средним значением: \n",
    "\n",
    "n = np.random.randint(100)\n",
    "\n",
    "fig, (ax1, ax2, ax3) = plt.subplots(\n",
    "    nrows=1, ncols=3,\n",
    "    figsize=(12, 4)\n",
    ")\n",
    "\n",
    "\n",
    "view = np.hstack((X_test[n], y_test[n]))\n",
    "ax1.imshow(view.reshape(64,64), cmap='gray')\n",
    "ax1.set_title(\"Истинное лицо\")\n",
    "\n",
    "view = np.hstack((X_test[n], mean_bottom))\n",
    "ax2.imshow(view.reshape(64,64), cmap='gray')\n",
    "ax2.set_title('Среднее значение')\n",
    "\n",
    "view = np.hstack((X_test[n], pred[n]))\n",
    "ax3.imshow(view.reshape(64,64), cmap='gray')\n",
    "ax3.set_title('kNN')\n",
    "\n",
    "plt.show()"
   ]
  },
  {
   "cell_type": "markdown",
   "metadata": {},
   "source": [
    "Посчитаем ошибку mean_squared_error на тесте, для kNN обученного по умолчанию. Ответ занести в задание 2 в \n",
    "[Форме](https://docs.google.com/forms/d/e/1FAIpQLSe73XPxLHz49iSh7849jxbbNpv0wCTUbDYz1lBaD44J431NTA/viewform)"
   ]
  },
  {
   "cell_type": "code",
   "execution_count": null,
   "metadata": {},
   "outputs": [],
   "source": [
    "#Ваш код здесь"
   ]
  },
  {
   "cell_type": "markdown",
   "metadata": {},
   "source": [
    "# Задание 3\n",
    "Найдите оптимальное (Где достигается минимум mean_squared_error) значение ближайщих соседей. Ответ занести в задание 3 в \n",
    "[Форме](https://docs.google.com/forms/d/e/1FAIpQLSe73XPxLHz49iSh7849jxbbNpv0wCTUbDYz1lBaD44J431NTA/viewform)"
   ]
  },
  {
   "cell_type": "code",
   "execution_count": null,
   "metadata": {},
   "outputs": [],
   "source": [
    "#Ваш код здесь\n",
    "\n",
    "for i in range(100):\n",
    "    knn = KNeighborsRegressor(n_neighbors=i+1)\n",
    "        #Ваш код здесь\n"
   ]
  },
  {
   "cell_type": "markdown",
   "metadata": {},
   "source": [
    "# Задание 4\n",
    "Обучим дерево с параметрами по умолчанию, однако зафиксируйте random_state =18:"
   ]
  },
  {
   "cell_type": "code",
   "execution_count": null,
   "metadata": {},
   "outputs": [],
   "source": [
    "from sklearn.tree import DecisionTreeRegressor"
   ]
  },
  {
   "cell_type": "code",
   "execution_count": null,
   "metadata": {},
   "outputs": [],
   "source": [
    "tree = DecisionTreeRegressor(random_state=18)\n",
    "tree.fit(X_train, y_train)\n",
    "pred_tree = tree.predict(X_test)"
   ]
  },
  {
   "cell_type": "code",
   "execution_count": null,
   "metadata": {},
   "outputs": [],
   "source": [
    "mean_squared_error(y_test, pred_tree)"
   ]
  },
  {
   "cell_type": "code",
   "execution_count": null,
   "metadata": {},
   "outputs": [],
   "source": [
    "# Нарисуем случайную половину верха лица из теста и дополним его средним значением: \n",
    "\n",
    "n = np.random.randint(100)\n",
    "\n",
    "fig, (ax1, ax2, ax3, ax4) = plt.subplots(\n",
    "    nrows=1, ncols=4,\n",
    "    figsize=(16, 4)\n",
    ")\n",
    "\n",
    "\n",
    "view = np.hstack((X_test[n], y_test[n]))\n",
    "ax1.imshow(view.reshape(64,64), cmap='gray')\n",
    "ax1.set_title(\"Истинное лицо\")\n",
    "\n",
    "view = np.hstack((X_test[n], mean_bottom))\n",
    "ax2.imshow(view.reshape(64,64), cmap='gray')\n",
    "ax2.set_title('Среднее значение')\n",
    "\n",
    "view = np.hstack((X_test[n], pred[n]))\n",
    "ax3.imshow(view.reshape(64,64), cmap='gray')\n",
    "ax3.set_title('kNN')\n",
    "\n",
    "\n",
    "view = np.hstack((X_test[n], pred_tree[n]))\n",
    "ax4.imshow(view.reshape(64,64), cmap='gray')\n",
    "ax4.set_title('Tree')\n",
    "\n",
    "\n",
    "\n",
    "plt.show()"
   ]
  },
  {
   "cell_type": "code",
   "execution_count": null,
   "metadata": {},
   "outputs": [],
   "source": [
    "# Посмотрим карту наиболее Важных признаков\n",
    "plt.imshow(tree.feature_importances_.reshape(32,64), cmap='gray')\n",
    "plt.show()"
   ]
  },
  {
   "cell_type": "markdown",
   "metadata": {},
   "source": [
    "Обратите внимание, на сколько хорошо получается рисовать лицо, но на сколько выросла ошибка - Дерево получилось слишком перееобученным\n",
    "\n",
    "Обучите GridSearchCV для поиска оптимального сочетания параметров max_depth и min_samples_leaf на трех фолдах. В качестве метрики качества используйте туже среднеквадратическую ошибку (Обратите внимание на \"Подвох\" sklearn'a)  "
   ]
  },
  {
   "cell_type": "code",
   "execution_count": null,
   "metadata": {},
   "outputs": [],
   "source": [
    "from sklearn.model_selection import GridSearchCV"
   ]
  },
  {
   "cell_type": "code",
   "execution_count": null,
   "metadata": {},
   "outputs": [],
   "source": [
    "tree = DecisionTreeRegressor(random_state=18)\n",
    "\n",
    "params = { \n",
    "    'max_depth': range(1, 10),\n",
    "    'min_samples_leaf': range(1,10)\n",
    "         }\n",
    "\n",
    "gcv = GridSearchCV(tree, n_jobs=-1, verbose=1 #Ваш код здесь)\n",
    "gcv.fit(X_train, y_train)"
   ]
  },
  {
   "cell_type": "code",
   "execution_count": null,
   "metadata": {},
   "outputs": [],
   "source": [
    "#Ваш код здесь"
   ]
  }
 ],
 "metadata": {
  "kernelspec": {
   "display_name": "Python 3",
   "language": "python",
   "name": "python3"
  },
  "language_info": {
   "codemirror_mode": {
    "name": "ipython",
    "version": 3
   },
   "file_extension": ".py",
   "mimetype": "text/x-python",
   "name": "python",
   "nbconvert_exporter": "python",
   "pygments_lexer": "ipython3",
   "version": "3.5.2"
  }
 },
 "nbformat": 4,
 "nbformat_minor": 2
}
