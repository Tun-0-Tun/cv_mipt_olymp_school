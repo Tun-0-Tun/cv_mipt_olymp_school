{
 "cells": [
  {
   "cell_type": "markdown",
   "metadata": {},
   "source": [
    "# Домашняя работа #1\n",
    "\n",
    "[Форма](https://forms.gle/x25jFER8nnUs2itEA) для отправки решения.\n",
    "\n",
    "# ДЕДЛАЙНЫ:\n",
    "\n",
    "Задача №1 - 17 июля 23:59 (мск)\n",
    "\n",
    "Задача №2 - 17 июля 23:59 (мск)\n",
    "\n",
    "Укажите в названии файла: \n",
    "1. имя и фамилия\n",
    "2. номер домашки\n",
    "3. номер задания\n",
    "\n",
    "(NAME_LES_TASK.ipynb)"
   ]
  },
  {
   "cell_type": "markdown",
   "metadata": {},
   "source": [
    "# Задача №1 – Пробки в городе.\n",
    "\n",
    "Требуется написать программу, которая на вход принимает картинку, на которой схематически изображена машинка на дороге с $N$ полосами и препятствия на полосах. Соответствующие объекты обозначены цветами, которые сохраняются на всех изображениях. Результатом работы программы является номер полосы, на которую нужно перестроиться или сообщение о том, что перестраиваться не нужно.\n",
    "\n",
    "Примеры изображений:\n",
    "<table><tr>\n",
    "    <td> <img src=\"https://i.ibb.co/8z84sJG/image_00.jpg\" alt=\"Drawing\" style=\"width: 200px;\"/> </td>\n",
    "    <td> <img src=\"https://i.ibb.co/Z6m4XFz/image_01.jpg\" alt=\"Drawing\" style=\"width: 200px;\"/> </td>\n",
    "</tr></table>"
   ]
  },
  {
   "cell_type": "code",
   "execution_count": null,
   "metadata": {},
   "outputs": [],
   "source": [
    "# Ваш код"
   ]
  },
  {
   "cell_type": "markdown",
   "metadata": {},
   "source": [
    "# Задача №2 - Геометрические преобразования  "
   ]
  },
  {
   "cell_type": "markdown",
   "metadata": {},
   "source": [
    "## Задача №2.1 - Поверни изображение\n",
    "\n",
    "Реализуйте функцию, которая поворачивает изображение вокруг заданной точки на заданный угол ($0^\\circ-360^\\circ$) и преобразует размер изображения, чтобы оно не обрезалось после поворота."
   ]
  },
  {
   "cell_type": "code",
   "execution_count": null,
   "metadata": {},
   "outputs": [],
   "source": [
    "def rotate(image, point: tuple, angle: float):\n",
    "    \"\"\"\n",
    "    Повернуть изображение по часовой стрелке на угол от 0 до 360 градусов и преобразовать размер изображения. \n",
    "    \n",
    "    :param image: исходное изображение\n",
    "    :param point: значение точки (x, y), вокруг которой повернуть изображение\n",
    "    :param angle: угол поворота \n",
    "    :return: повернутное изображение\n",
    "    \"\"\"\n",
    "    # Ваш код\n",
    "    pass\n",
    "\n",
    "    return image"
   ]
  },
  {
   "cell_type": "markdown",
   "metadata": {},
   "source": [
    "## Задача №2.2 - Афинные преобразования\n",
    "\n",
    "Реализуйте функцию, которая применяет афинное преобразование между заданными точками на исходном изображении и преобразует размер получившегося изображения, чтобы оно не обрезалось."
   ]
  },
  {
   "cell_type": "code",
   "execution_count": null,
   "metadata": {},
   "outputs": [],
   "source": [
    "def apply_warpAffine(image, points1, points2):\n",
    "    \"\"\"\n",
    "    Применить афинное преобразование согласно переходу точек points1 -> points2 и \n",
    "    преобразовать размер изображения.\n",
    "    \n",
    "    :param image:\n",
    "    :param points1:\n",
    "    :param points2:\n",
    "    :return: преобразованное изображение\n",
    "    \"\"\"\n",
    "    new_image = None\n",
    "    \n",
    "    # Ваш код \n",
    "    \n",
    "    return new_image"
   ]
  },
  {
   "cell_type": "code",
   "execution_count": null,
   "metadata": {},
   "outputs": [],
   "source": []
  }
 ],
 "metadata": {
  "hide_input": false,
  "kernelspec": {
   "display_name": "Python 3",
   "language": "python",
   "name": "python3"
  },
  "language_info": {
   "codemirror_mode": {
    "name": "ipython",
    "version": 3
   },
   "file_extension": ".py",
   "mimetype": "text/x-python",
   "name": "python",
   "nbconvert_exporter": "python",
   "pygments_lexer": "ipython3",
   "version": "3.7.7"
  },
  "toc": {
   "base_numbering": 1,
   "nav_menu": {},
   "number_sections": true,
   "sideBar": true,
   "skip_h1_title": false,
   "title_cell": "Table of Contents",
   "title_sidebar": "Contents",
   "toc_cell": false,
   "toc_position": {},
   "toc_section_display": true,
   "toc_window_display": false
  },
  "varInspector": {
   "cols": {
    "lenName": 16,
    "lenType": 16,
    "lenVar": 40
   },
   "kernels_config": {
    "python": {
     "delete_cmd_postfix": "",
     "delete_cmd_prefix": "del ",
     "library": "var_list.py",
     "varRefreshCmd": "print(var_dic_list())"
    },
    "r": {
     "delete_cmd_postfix": ") ",
     "delete_cmd_prefix": "rm(",
     "library": "var_list.r",
     "varRefreshCmd": "cat(var_dic_list()) "
    }
   },
   "types_to_exclude": [
    "module",
    "function",
    "builtin_function_or_method",
    "instance",
    "_Feature"
   ],
   "window_display": false
  }
 },
 "nbformat": 4,
 "nbformat_minor": 2
}
