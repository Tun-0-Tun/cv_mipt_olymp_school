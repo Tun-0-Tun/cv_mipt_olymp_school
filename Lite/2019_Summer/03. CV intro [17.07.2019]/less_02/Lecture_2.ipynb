{
 "cells": [
  {
   "cell_type": "markdown",
   "metadata": {},
   "source": [
    "# Лекция №2"
   ]
  },
  {
   "cell_type": "markdown",
   "metadata": {},
   "source": [
    "# Гистограммы "
   ]
  },
  {
   "cell_type": "markdown",
   "metadata": {},
   "source": [
    "Так что такое гистограмма? Вы можете рассматривать гистограмму как график или график, который дает вам общее представление о распределении интенсивности изображения. Это график со значениями пикселей (от $0$ до $255$, не всегда) по оси X и соответствующим количеством пикселей в изображении по оси Y.\n",
    "\n",
    "Это просто еще один способ понять образ. Глядя на гистограмму изображения, вы получаете представление о контрасте, яркости, распределении интенсивности и т.д. этого изображения. Почти все инструменты обработки изображений сегодня предоставляют функции на гистограмме.\n",
    "\n",
    "<img src=\"https://i.ibb.co/cJxrWhx/histogram_sample.jpg\" alt=\"Drawing\" style=\"width: 400px;\"/>\n",
    "\n",
    "Вы можете увидеть изображение и его гистограмму. (Помните, эта гистограмма нарисована для изображения в оттенках серого, а не для цветного изображения). Левая область гистограммы показывает количество более темных пикселей на изображении, а правая область показывает количество более ярких пикселей. На гистограмме видно, что темная область больше, чем яркая, а количество полутонов (значения пикселей в среднем диапазоне, скажем, около $127$) очень меньше."
   ]
  },
  {
   "cell_type": "markdown",
   "metadata": {},
   "source": [
    "## Найдем гистограмму\n",
    "\n",
    "**Гистограммы** $-$ это собранные данные, организованные в набор предопределенных столбцов.\n",
    "Когда мы говорим данные, мы не ограничиваем их значениями интенсивности (как мы видели в предыдущем уроке). Собранные данные могут быть любой функцией, которую вы найдете полезной для описания вашего изображения.\n",
    "\n",
    "Давайте посмотрим на пример. Представьте, что матрица содержит информацию об изображении (то есть интенсивность в диапазоне $0-255$):\n",
    "\n",
    "<img src=\"../img/Histogram_Calculation_Theory_Hist.jpg\" alt=\"Drawing\" style=\"width: 400px;\"/>\n",
    "\n",
    "Что произойдет, если мы захотим считать эти данные организованным способом? Так как мы знаем, что диапазон информационных значений для этого случая равен 256 значениям, мы можем сегментировать наш диапазон по частям (называемым ячейками), например:\n",
    "\n",
    "$$\n",
    "{\\begin{array}{l}\n",
    "[0, 255] = { [0, 15] \\cup [16, 31] \\cup ....\\cup [240,255] } \\\\\n",
    "range = { bin_{1} \\cup bin_{2} \\cup ....\\cup bin_{n = 15} }\n",
    "\\end{array}}\n",
    "$$\n",
    "\n",
    "и мы можем вести подсчет количества пикселей, попадающих в диапазон каждого $bin_{i}$. Применяя это к примеру выше, мы получаем изображение ниже (ось x представляет ячейки, а ось y – количество пикселей в каждом из них).\n",
    "\n",
    "<img src=\"https://i.ibb.co/Wss2Fqh/Histogram_Calculation_Theory_Hist1.jpg\" alt=\"Drawing\" style=\"width: 400px;\"/>\n",
    "\n",
    "Это был простой пример того, как работает гистограмма и почему она полезна. Гистограмма может вести учет не только интенсивности цвета, но и любых характеристик изображения, которые мы хотим измерить (то есть градиенты, направления и т.д.).\n",
    "\n",
    "Давайте выделим некоторые части гистограммы:\n",
    "\n",
    "* __dims__: количество параметров, для которых вы хотите собрать данные. В нашем примере dims = $1$, потому что мы рассчитываем только значения интенсивности каждого пикселя (в полутоновом изображении)\n",
    "* __bins__: это количество подразделений в каждом тусклом свете. В нашем примере bins = $16$\n",
    "* __range__: пределы измеряемых значений. В этом случае: range = $[0,255]$\n",
    "\n",
    "Что если вы хотите сосчитать две особенности? В этом случае ваша результирующая гистограмма будет трехмерным графиком (в котором $x$ и $y$ будут $bin_{x}$ и $bin_{y}$ для каждого объекта, а $z$ будет количеством отсчетов для каждой комбинации $(bin_ {x}, bin_ {y})$. То же самое относится и к дополнительным функциям (конечно, это становится сложнее)."
   ]
  },
  {
   "cell_type": "code",
   "execution_count": null,
   "metadata": {
    "ExecuteTime": {
     "end_time": "2019-07-17T12:56:35.383107Z",
     "start_time": "2019-07-17T12:56:34.913997Z"
    }
   },
   "outputs": [],
   "source": [
    "import numpy as np\n",
    "import cv2 \n",
    "import matplotlib.pyplot as plt\n",
    "\n",
    "%matplotlib inline"
   ]
  },
  {
   "cell_type": "markdown",
   "metadata": {},
   "source": [
    "### Гистограммы в OpenCV"
   ]
  },
  {
   "cell_type": "markdown",
   "metadata": {},
   "source": [
    "Воспользуемся функцией **cv2.calcHist()**, чтобы найти гистограмму. Давайте ознакомимся с функцией и ее параметрами:\n",
    "\n",
    "**cv2.calcHist (image, channel, mask, histSize, range[ , hist[, accumulate]])**\n",
    "\n",
    "* **images** $-$ это исходное изображение типа $uint8$ или $float32$. его следует указывать в квадратных скобках, т.е. \"[img]\".\n",
    "* **channel** $-$ также указывается в квадратных скобках. Это индекс канала, для которого мы рассчитываем гистограмму. Например, если входное изображение представляет собой изображение в градациях серого, его значение равно $[0]$. Для цветного изображения вы можете передать $[0]$, $[1]$ или $[2]$, чтобы вычислить гистограмму синего, зеленого или красного канала соответственно.\n",
    "* **mask** $-$ маска изображения. Чтобы найти гистограмму полного изображения, она задается как **None**. Но если вы хотите найти гистограмму определенной области изображения, вы должны создать для нее изображение маски и указать ее как маску.\n",
    "* **histSize** $-$ это представляет наш счетчик __bin__. Нужно указывать в квадратных скобках. Для полной шкалы мы передаем $[256]$.\n",
    "* **range** $-$ это наш **range**. Обычно это $[0,256]$.\n",
    "* **hist** $-$ выходная гистограмма, представляющая собой плотный или разреженный размерный массив.\n",
    "* **accumulate** $-$ накопительный флаг. Если он установлен, гистограмма не очищается в начале при выделении. Эта функция позволяет вычислять одну гистограмму из нескольких наборов массивов или своевременно обновлять гистограмму.\n",
    "\n",
    "Итак, начнем с примера изображения. Просто загрузите изображение в режиме оттенков серого и найдите его полную гистограмму."
   ]
  },
  {
   "cell_type": "code",
   "execution_count": null,
   "metadata": {
    "ExecuteTime": {
     "end_time": "2019-07-17T12:56:42.977083Z",
     "start_time": "2019-07-17T12:56:42.516305Z"
    }
   },
   "outputs": [],
   "source": [
    "img = cv2.imread('img/forest_1.jpg')\n",
    "## помним про matplotlib\n",
    "img_plt = cv2.cvtColor(img.copy(), cv2.COLOR_RGB2BGR)\n",
    "## grayscale\n",
    "gray = cv2.cvtColor(img.copy(), cv2.COLOR_RGB2GRAY)\n",
    "\n",
    "## получим гистограмму\n",
    "## ravel() - разворачивает массив в список\n",
    "hist = cv2.calcHist([gray.ravel()], [0], None, [256], [0,256])\n",
    "\n",
    "fig, m_axs = plt.subplots(1, 2, figsize=(12,4))\n",
    "ax1, ax2 = m_axs\n",
    "\n",
    "ax1.set_title('Исходное изображение')\n",
    "ax1.imshow(img_plt)\n",
    "ax2.set_title('Гистограмма по освещенности')\n",
    "ax2.plot(hist)\n",
    "ax2.set_xlim([0,256]);"
   ]
  },
  {
   "cell_type": "markdown",
   "metadata": {},
   "source": [
    "### Гистограммы в  Numpy\n",
    "\n",
    "Numpy также предоставляет вам функцию __np.histogram()__. Так что вместо функции __cv2.calcHist()__ вы можете использовать строку ниже:"
   ]
  },
  {
   "cell_type": "code",
   "execution_count": null,
   "metadata": {
    "ExecuteTime": {
     "end_time": "2019-07-17T12:56:44.795245Z",
     "start_time": "2019-07-17T12:56:44.286223Z"
    }
   },
   "outputs": [],
   "source": [
    "hist, bins = np.histogram(gray.ravel(), 256, [0,256])\n",
    "\n",
    "fig, m_axs = plt.subplots(1, 2, figsize=(12,4))\n",
    "ax1, ax2 = m_axs\n",
    "\n",
    "ax1.set_title('Исходное изображение')\n",
    "ax1.imshow(img_plt)\n",
    "ax2.set_title('Гистограмма по освещенности')\n",
    "ax2.plot(hist)\n",
    "ax2.set_xlim([0,256]);"
   ]
  },
  {
   "cell_type": "markdown",
   "metadata": {},
   "source": [
    "Гистограмма аналогичная, как мы рассчитывали ранее. Но ячейки будут иметь $257$ элементов, потому что **Numpy** рассчитывает ячейки как $0-0.99$, $1-1.99$, $2-2.99$ и т.д. Таким образом, конечный диапазон будет $255-255.99$. Чтобы представить это, они также добавляют $256$ в конце бинов. Но нам не нужно это $256$. До $255$ достаточно."
   ]
  },
  {
   "cell_type": "markdown",
   "metadata": {},
   "source": [
    "Визуализируем сразу $3$ канала цвета:"
   ]
  },
  {
   "cell_type": "code",
   "execution_count": null,
   "metadata": {
    "ExecuteTime": {
     "end_time": "2019-07-17T09:15:43.595523Z",
     "start_time": "2019-07-17T09:15:43.122001Z"
    }
   },
   "outputs": [],
   "source": [
    "fig, m_axs = plt.subplots(1, 2, figsize=(12,4))\n",
    "ax1, ax2 = m_axs\n",
    "\n",
    "ax1.set_title('Исходное изображение')\n",
    "ax1.imshow(img_plt)\n",
    "ax2.set_title('Гистограмма по освещенности')\n",
    "ax2.set_xlim([0,256])\n",
    "\n",
    "color = ('b', 'g', 'r')\n",
    "for i,col in enumerate(color):\n",
    "    histr = cv2.calcHist([img_plt], [i], None, [256], [0,256])\n",
    "    ax2.plot(histr, color=col)"
   ]
  },
  {
   "cell_type": "markdown",
   "metadata": {},
   "source": [
    "### Применение маски\n",
    "\n",
    "Мы использовали __cv2.calcHist()__, чтобы найти гистограмму полного изображения. Что если вы хотите найти гистограммы некоторых областей изображения? Просто создайте изображение маски белым цветом на области, где вы хотите найти гистограмму, и черным в противном случае. Затем передайте это как маску."
   ]
  },
  {
   "cell_type": "code",
   "execution_count": null,
   "metadata": {
    "ExecuteTime": {
     "start_time": "2019-07-16T20:44:56.428Z"
    }
   },
   "outputs": [],
   "source": [
    "## grayscale\n",
    "gray = cv2.cvtColor(img.copy(), cv2.COLOR_RGB2GRAY)\n",
    "\n",
    "## создадим маску c помощью GUI ROI\n",
    "## маска должна быть одномерной\n",
    "while(1):\n",
    "    mask = np.zeros(img.shape[:2], np.uint8)\n",
    "    roi = cv2.selectROI('Image', img, False, False)\n",
    "    ## на выделенное место подставим маску\n",
    "    mask[int(roi[1]):int(roi[1]+roi[3]), int(roi[0]):int(roi[0]+roi[2])] = \\\n",
    "    gray[int(roi[1]):int(roi[1]+roi[3]), int(roi[0]):int(roi[0]+roi[2])]\n",
    "\n",
    "    if cv2.waitKey(0) & 0xFF == ord('q'):\n",
    "        break\n",
    "\n",
    "cv2.destroyAllWindows()\n",
    "\n",
    "masked_img = cv2.bitwise_and(gray, gray, mask=mask)\n",
    "\n",
    "## проверим, что мы вырезали то, что хотели\n",
    "plt.title('Маска')\n",
    "plt.imshow(masked_img, cmap='gray');"
   ]
  },
  {
   "cell_type": "markdown",
   "metadata": {},
   "source": [
    "Тут мы воспользовались распространенным приемом с *\"подложкой\"*, т.е. использовали массив из нулей, на которой наложили интересующую картнику. \n",
    "\n",
    "Для арифметических операция над матрицами в OpenCV есть несклько базовых функций. Рассмотрим несколько из них:\n",
    "\n",
    "* __cv2.absdiff(src1, src2[,dst])__\n",
    "\n",
    "    абсолютная разница между двумя массивами: $${\\texttt{dst}(I)=|\\texttt{src1}(I)-\\texttt{src2}(I)|}$$\n",
    "\n",
    "* __cv2.add(src1, src2[, dst[, mask[, dtype]]])__\n",
    "\n",
    "    Функция add рассчитывае сумму двух массивов: $${\\texttt{dst}(I)=\\texttt{src1}(I)+\\texttt{src2}(I) \\quad\\texttt{if mask}(I)\\ne0}$$\n",
    "\n",
    "* __cv2.bitwise_and(src1, src2[, dst[, mask]])__\n",
    "\n",
    "    Функция рассчитывает побитовое логическое соединение для каждого элемента массива: $${\\texttt{dst} (I)=\\texttt{src1}(I)\\wedge\\texttt{src2}(I)\\quad\\texttt{if mask}(I)\\ne0}$$\n",
    "\n",
    "* __cv2.bitwise_not(src[, dst[, mask]])__\n",
    "\n",
    "    Функция рассчитывает побитовую инверсию входного массива для каждого элемента: $${\\texttt{dst}(I)=\\neg{\\texttt{src}(I)}}$$\n",
    "\n",
    "* __cv2.bitwise_or(src1, src2[, dst[, mask]])__\n",
    "\n",
    "    Функция вычисляет побитовую логическую дизъюнкцию для каждого элемента для: $${\\texttt{dst}(I)=\\texttt{src1}(I)\\vee\\texttt{src2}(I)\\quad\\texttt{if mask}(I)\\ne0}$$\n",
    "\n",
    "* __cv2.bitwise_xor(src1, src2[, dst[, mask]])__\n",
    "\n",
    "    Функция вычисляет побитовую логическую операцию «исключая или» для каждого элемента массива: $${\\texttt{dst}(I)=\\texttt{src1}(I)\\oplus\\texttt{src2}(I)\\quad\\texttt{if mask}(I)\\ne0}$$\n",
    "\n",
    "Остальные можно найти в [документации](https://docs.opencv.org/3.4.2/d2/de8/group__core__array.html)"
   ]
  },
  {
   "cell_type": "code",
   "execution_count": null,
   "metadata": {
    "ExecuteTime": {
     "end_time": "2019-07-16T20:46:35.940603Z",
     "start_time": "2019-07-16T20:46:35.843540Z"
    }
   },
   "outputs": [],
   "source": [
    "## посчитаем гистограмму для всего изображения и маски\n",
    "hist_full = cv2.calcHist([gray],[0],None,[256],[0,256])\n",
    "hist_mask = cv2.calcHist([gray],[0],mask,[256],[0,256])\n",
    "\n",
    "\n",
    "fig, m_axs = plt.subplots(2, 2, figsize=(12,8))\n",
    "ax1, ax2 = m_axs\n",
    "\n",
    "ax1[0].set_title('Исходное изображение')\n",
    "ax1[0].imshow(gray, cmap='gray')\n",
    "ax1[1].set_title('Маска')\n",
    "ax1[1].imshow(masked_img, cmap='gray')\n",
    "ax2[0].set_title('Освещенность изображения')\n",
    "ax2[0].plot(hist_full)\n",
    "ax2[0].set_xlim(0, 256)\n",
    "ax2[1].set_title('Освещенность маски')\n",
    "ax2[1].plot(hist_mask)\n",
    "ax2[1].set_xlim(0, 256);"
   ]
  },
  {
   "cell_type": "markdown",
   "metadata": {},
   "source": [
    "Теперь посмотрим для всех каналов цвета интесивность на маске"
   ]
  },
  {
   "cell_type": "code",
   "execution_count": null,
   "metadata": {
    "ExecuteTime": {
     "start_time": "2019-07-16T20:46:39.369Z"
    }
   },
   "outputs": [],
   "source": [
    "gray = cv2.cvtColor(img, cv2.COLOR_RGB2GRAY)\n",
    "\n",
    "## создадим маску c помощью GUI ROI\n",
    "mask = np.zeros(img.shape[:2], np.uint8)\n",
    "roi = cv2.selectROI(img)\n",
    "mask[int(roi[1]):int(roi[1]+roi[3]), int(roi[0]):int(roi[0]+roi[2])] =\\\n",
    "gray[int(roi[1]):int(roi[1]+roi[3]), int(roi[0]):int(roi[0]+roi[2])]\n",
    "\n",
    "cv2.waitKey(0)\n",
    "cv2.destroyAllWindows()\n",
    "\n",
    "masked_img = cv2.bitwise_and(img_plt, img_plt, mask=mask)\n",
    "\n",
    "fig, m_axs = plt.subplots(2, 2, figsize=(12,8))\n",
    "ax1, ax2 = m_axs\n",
    "\n",
    "ax1[0].set_title('Исходное изображение')\n",
    "ax1[0].imshow(img_plt, cmap='gray')\n",
    "ax1[1].set_title('Маска')\n",
    "ax1[1].imshow(masked_img, cmap='gray')\n",
    "ax2[0].set_title('Освещенность изображения')\n",
    "ax2[1].set_title('Освещенность маски')\n",
    "\n",
    "color = ('b', 'g', 'r')\n",
    "for i,col in enumerate(color):\n",
    "    hist_full = cv2.calcHist([img_plt], [i], None, [256], [0,256])\n",
    "    hist_mask = cv2.calcHist([img_plt], [i], mask, [256], [0,256])\n",
    "    ax2[0].plot(hist_full, color=col)\n",
    "    ax2[0].set_xlim(0, 256)\n",
    "    ax2[1].plot(hist_mask, color=col)\n",
    "    ax2[1].set_xlim(0, 256)\n",
    "    "
   ]
  },
  {
   "cell_type": "markdown",
   "metadata": {},
   "source": [
    "## Выравнивание гистограм"
   ]
  },
  {
   "cell_type": "markdown",
   "metadata": {},
   "source": [
    "Рассмотрим изображение, значения пикселей которого ограничены только определенным диапазоном значений. Например, более яркое изображение будет иметь все пиксели, ограниченные высокими значениями. Но хорошее изображение будет иметь пиксели из всех областей изображения. Таким образом, вам нужно растянуть эту гистограмму до конца (как показано на изображении ниже), и это то, что делает выравнивание гистограммы (если коротко). Это обычно улучшает контраст изображения.\n",
    "\n",
    "<img src=\"https://i.ibb.co/rZ3sM6q/histogram_equalization.png\" alt=\"Drawing\" style=\"width: 400px;\"/>\n",
    "\n",
    "Я бы порекомендовал вам прочитать страницу Википедии по выравниванию гистограммы для более подробной информации. Он имеет очень хорошее объяснение с отработанными примерами, так что вы сможете понять почти все после прочтения этого. Вместо этого здесь мы увидим его реализацию Numpy. После этого мы увидим функцию OpenCV.\n",
    "\n",
    "Нам понадобится функция распределения значений пикслей в градации серого: \n",
    "\n",
    "$${cdf(x)=h(0)+h(1)+\\dots+h(x),}$$ где $h(x)$ $-$ функция гистограммы\n",
    "\n",
    "Значение функции распределения показывает, какое количество пикселей имеют яркости из отрезка $[0,x]$."
   ]
  },
  {
   "cell_type": "code",
   "execution_count": null,
   "metadata": {
    "ExecuteTime": {
     "end_time": "2019-07-17T09:25:49.665699Z",
     "start_time": "2019-07-17T09:25:49.058764Z"
    }
   },
   "outputs": [],
   "source": [
    "gray = cv2.cvtColor(img, cv2.COLOR_RGB2GRAY)\n",
    "## помним про matplotlib\n",
    "img_plt = cv2.cvtColor(img.copy(), cv2.COLOR_RGB2BGR)\n",
    "\n",
    "hist,bins = np.histogram(img_plt.flatten(),256,[0,256])\n",
    "\n",
    "## фунция распределения\n",
    "cdf = hist.cumsum()\n",
    "cdf_normalized = cdf * hist.max()/ cdf.max()\n",
    "\n",
    "fig, m_axs = plt.subplots(1, 2, figsize=(12, 4))\n",
    "ax1, ax2 = m_axs\n",
    "\n",
    "ax1.set_title('Исходное изображение')\n",
    "ax1.imshow(img_plt)\n",
    "ax2.set_title('Гистограмма по освещенности')\n",
    "ax2.plot(hist, color='r')\n",
    "ax2.plot(cdf_normalized, color='b')\n",
    "ax2.legend(('histogram', 'cdf'), loc = 'upper left')\n",
    "ax2.set_xlim(0, 256);"
   ]
  },
  {
   "cell_type": "markdown",
   "metadata": {},
   "source": [
    "Вы можете видеть гистограмму, лежащую в более ярком регионе. Нам нужен полный спектр. Для этого нам нужна функция преобразования, которая отображает входные пиксели в более яркой области для вывода пикселей в полной области. Это то, что делает выравнивание гистограммы.\n",
    "\n",
    "Теперь мы находим минимальное значение гистограммы (исключая $0$) и применяем уравнение выравнивания гистограммы. Для маскированного массива все операции выполняются на немаскированных элементах. Вы можете прочитать больше об этом в документации Numpy на масках."
   ]
  },
  {
   "cell_type": "code",
   "execution_count": null,
   "metadata": {
    "ExecuteTime": {
     "end_time": "2019-07-17T09:26:16.666643Z",
     "start_time": "2019-07-17T09:26:16.659779Z"
    }
   },
   "outputs": [],
   "source": [
    "cdf_m = np.ma.masked_equal(cdf.copy(), 0)\n",
    "## выравнивание к линейному распределению\n",
    "cdf_m = (cdf_m - cdf_m.min())*255/(cdf_m.max() - cdf_m.min())\n",
    "cdf = np.ma.filled(cdf_m, 0).astype('uint32')"
   ]
  },
  {
   "cell_type": "markdown",
   "metadata": {},
   "source": [
    "Теперь у нас есть справочная таблица, которая дает нам информацию о том, что является значением выходного пикселя для каждого значения входного пикселя."
   ]
  },
  {
   "cell_type": "code",
   "execution_count": null,
   "metadata": {
    "ExecuteTime": {
     "end_time": "2019-07-17T09:26:18.390755Z",
     "start_time": "2019-07-17T09:26:17.867356Z"
    }
   },
   "outputs": [],
   "source": [
    "img2 = cdf[img_plt]\n",
    "\n",
    "hist2, bins2 = np.histogram(img2.flatten(), 256, [0,256])\n",
    "cdf2 = hist2.cumsum()\n",
    "cdf_normalized2 = cdf2 * hist2.max()/ cdf2.max()\n",
    "\n",
    "fig, m_axs = plt.subplots(1, 2, figsize=(12, 4))\n",
    "ax1, ax2 = m_axs\n",
    "\n",
    "ax1.imshow(img2, cmap='gray')\n",
    "ax2.plot(hist2, color='r')\n",
    "ax2.plot(cdf_normalized2, color='b')\n",
    "ax2.legend(('cdf','histogram'), loc = 'upper left')\n",
    "ax2.set_xlim(0, 256)\n",
    "plt.show();"
   ]
  },
  {
   "cell_type": "markdown",
   "metadata": {},
   "source": [
    "OpenCV имеет функцию для этого, **cv2.equalizeHist()**. Его вход $-$ это просто изображение в градациях серого, а вывод – изображение, выровненное по гистограмме. Однако, реализация в OpenCV рабоает зачастую медленне, чем Numpy."
   ]
  },
  {
   "cell_type": "markdown",
   "metadata": {},
   "source": [
    "## Адаптивный эквалайзер с ограниченной адаптивной гистограммой (CLAHE)\n",
    "\n",
    "Первое выравнивание гистограммы, которое мы только что видели, учитывает глобальный контраст изображения. Во многих случаях это не очень хорошая идея. Например, ниже изображение показывает входное изображение и его результат после глобальной выравнивания гистограммы."
   ]
  },
  {
   "cell_type": "code",
   "execution_count": null,
   "metadata": {
    "ExecuteTime": {
     "end_time": "2019-07-17T09:26:52.113523Z",
     "start_time": "2019-07-17T09:26:51.576833Z"
    }
   },
   "outputs": [],
   "source": [
    "## вспомним, что было с линиаризацией освещенности\n",
    "img = cv2.imread('img/forest_1.jpg')\n",
    "gray = cv2.cvtColor(img, cv2.COLOR_RGB2GRAY)\n",
    "equ = cv2.equalizeHist(gray)\n",
    "\n",
    "res = np.vstack((gray, equ))\n",
    "plt.figure(figsize=(12,8))\n",
    "plt.imshow(res, cmap='gray');"
   ]
  },
  {
   "cell_type": "markdown",
   "metadata": {},
   "source": [
    "Это правда, что контрастность фона улучшилась после выравнивания гистограммы. Мы потеряли большую часть информации там из-за чрезмерной яркости. Это потому, что его гистограмма не ограничена определенной областью, как мы видели в предыдущих случаях.\n",
    "\n",
    "Поэтому для решения этой проблемы используется __адаптивное выравнивание гистограммы (AHE)__. При этом изображение делится на маленькие блоки, называемые «плитками» (tileSize по умолчанию в OpenCV составляет $8\\times8$). Затем каждый из этих блоков гистограммы выравнивается как обычно. Таким образом, в небольшой области гистограмма будет ограничена небольшой областью (если нет шума), как показано на рисунке:\n",
    "\n",
    "<img src=\"https://i.ibb.co/Z2v37jw/AHE-neighbourhoods.png\" alt=\"Drawing\" style=\"width: 300px;\"/>\n",
    "\n",
    "Если шум есть, он будет усилен. Чтобы избежать этого, применяется ограничение контраста. Если какой-либо интервал гистограммы превышает указанный предел контраста (по умолчанию $40$ в OpenCV), эти пиксели обрезаются и распределяются равномерно по другим интервалам перед применением выравнивания гистограммы. После выравнивания для удаления артефактов на границах мозаики применяется билинейная интерполяция.\n",
    "\n",
    "Ниже приведен фрагмент кода, демонстрирующий применение CLAHE в OpenCV:"
   ]
  },
  {
   "cell_type": "code",
   "execution_count": null,
   "metadata": {
    "ExecuteTime": {
     "end_time": "2019-07-17T09:27:25.721867Z",
     "start_time": "2019-07-17T09:27:24.473621Z"
    }
   },
   "outputs": [],
   "source": [
    "## бахнем CLAHE и сравним все\n",
    "clahe = cv2.createCLAHE(clipLimit=2.0, tileGridSize=(8,8))\n",
    "cl1 = clahe.apply(gray)\n",
    "res = np.hstack((gray, equ, cl1))\n",
    "\n",
    "hist_gray = cv2.calcHist([gray],[0],None,[256],[0,256])\n",
    "hist_equ = cv2.calcHist([equ],[0],None,[256],[0,256])\n",
    "hist_clahe = cv2.calcHist([cl1],[0],None,[256],[0,256])\n",
    "\n",
    "fig, m_axs = plt.subplots(2, 3, figsize=(24, 12))\n",
    "ax1, ax2 = m_axs\n",
    "\n",
    "ax1[0].set_title('gray')\n",
    "ax1[0].imshow(gray, cmap='gray')\n",
    "ax1[1].set_title('equalization')\n",
    "ax1[1].imshow(equ, cmap='gray')\n",
    "ax1[2].set_title('CLAHE')\n",
    "ax1[2].imshow(cl1, cmap='gray')\n",
    "\n",
    "ax2[0].plot(hist_gray)\n",
    "ax2[1].plot(hist_equ)\n",
    "ax2[2].plot(hist_clahe);"
   ]
  },
  {
   "cell_type": "markdown",
   "metadata": {},
   "source": [
    "## Сравнение гистограмм "
   ]
  },
  {
   "cell_type": "markdown",
   "metadata": {},
   "source": [
    "Безусловно, что пользы от гистограмм не будет никакой, если не сравнивать их с эталонными диаграммами. Предположим, есть эталонное изображение $-$ какой-то объект заданных размеров. Также есть множество неизвестных изображений, на которых нужно найти эталонное изображение. Для этого нужно перебирать участки изображений, сравнивая содержимое с эталоном. Можно сравнивать каждую точку из участка, но это будет медленно. Гораздо быстрее по ресурсам $-$ это сравнить гистограммы яркости. Для сравнения гистограмм в OpenCV предусмотрена функция **cv2.CompareHist()**.\n",
    "\n",
    "Мы рассмотрим только одну метрику сравнения $-$ *cv2.HISTCMP_CORREL* "
   ]
  },
  {
   "cell_type": "code",
   "execution_count": null,
   "metadata": {
    "ExecuteTime": {
     "end_time": "2019-07-17T09:28:09.029874Z",
     "start_time": "2019-07-17T09:28:08.401801Z"
    }
   },
   "outputs": [],
   "source": [
    "# возьмем выравненные гистограммы освещенности и сравним через корреляцию\n",
    "\n",
    "## коэффицент корреляции между gray и equalization\n",
    "cor_ge = cv2.compareHist(hist_gray, hist_equ, cv2.HISTCMP_CORREL)\n",
    "## коэффицент корреляции между clahe и equalization\n",
    "cor_ec = cv2.compareHist(hist_equ, hist_clahe, cv2.HISTCMP_CORREL)\n",
    "## коэффицент корреляции между gray и clahe\n",
    "cor_gc = cv2.compareHist(hist_gray, hist_clahe, cv2.HISTCMP_CORREL)\n",
    "\n",
    "fig, m_axs = plt.subplots(1, 3, figsize=(20, 5))\n",
    "ax1, ax2, ax3 = m_axs\n",
    "\n",
    "ax1.set_title('r = {:.3f}'.format(cor_ge))\n",
    "ax1.plot(hist_gray, color='r')\n",
    "ax1.plot(hist_equ, color='gray')\n",
    "\n",
    "ax2.set_title('r = {:.3f}'.format(cor_ec))\n",
    "ax2.plot(hist_equ, color='gray')\n",
    "ax2.plot(hist_clahe, color='r')\n",
    "\n",
    "ax3.set_title('r = {:.3f}'.format(cor_gc))\n",
    "ax3.plot(hist_gray, color='r')\n",
    "ax3.plot(hist_clahe, color='gray');\n"
   ]
  },
  {
   "cell_type": "markdown",
   "metadata": {},
   "source": [
    "Вообще говоря, сравнивать мы можем любые гистограммы. \n",
    "\n",
    "Разберём на примере самый простой случай классификации, когда пространство признака одномерное, а нам нужно разделить 2 класса. Ситуация встречается чаще, чем может представиться: например, когда нужно отличить два сигнала, или сравнить паттерн с образцом. Пусть у нас есть обучающая выборка. При этом получается изображение, где по оси X будет мера похожести, а по оси Y -количество событий с такой мерой. Когда искомый объект похож на себя — получается левая гауссиана. Когда не похож — правая. Значение X=0.4 разделяет выборки так, что ошибочное решение минимизирует вероятность принятия любого неправильного решения. Именно поиском такого разделителя и является задача классификации.\n",
    "\n",
    "<img src=\"https://i.ibb.co/gdG3jGj/hist_comp.png\" alt=\"Drawing\" style=\"width: 500px;\"/>"
   ]
  },
  {
   "cell_type": "markdown",
   "metadata": {},
   "source": [
    "### Контрольные вопросы:\n",
    "\n",
    "1. Как найти оптимальные параметры для clahe (поварируйте параметры)?\n",
    "\n",
    "2. Как коррелируют гистограммы clahe и первичная?\n",
    "\n",
    "3. Что будет с нормальной фоткой после clahe?\n",
    "\n",
    "4. Как сделать __CLAHE__ к цветному изображению?\n",
    "\n",
    "5. Что будет, если __CLAHE__ применить к другим формата кодирования цвета: HSV, LAB? Какой формат кодирования лучше подходит для работы с коррекцией цвета?\n",
    "\n",
    "6. Что будет, если __equalization__ применить к другим формата кодирования цвета: HSV, LAB? Какой формат кодирования лучше подходит для работы с коррекцией цвета?"
   ]
  },
  {
   "cell_type": "markdown",
   "metadata": {},
   "source": [
    "### Домашняя работа #2\n",
    "\n",
    "[Форма](https://forms.gle/3jRJLXJJZEaQxy3E7) для отправки решения.\n",
    "\n",
    "__ДЕДЛАЙНЫ__:\n",
    "\n",
    "Задача №1 - 18 июля 23:59\n",
    "\n",
    "Задача №2 - 20 июля 23:59\n",
    "\n",
    "Укажите в названии файла: \n",
    "1. имя и фамилия\n",
    "2. номер домашки\n",
    "3. номер задания\n",
    "\n",
    "(NAME_LES_TASK.ipynb)\n",
    "\n",
    "#### Задача №1 - Лес или пустыня?\n",
    "\n",
    "Часто при анализе изображений местности необходимо понять ее характер. В частности, если определить, что на изображении преобладет вода, то имеет смысл искать корабли на таком изображении. Если на картинке густой лес, то, возможно, это не лучшая зона для посадки дрона или беспилотника.\n",
    "\n",
    "Ваша задача - написать программу, которая будет отличать лес от пустыни. В приложении можно найти реальные спутниковые снимки лесов и пустынь. Подобные примеры изображений присутствуют в тесте\n",
    "\n",
    "Примеры изображений:\n",
    "<table><tr>\n",
    "    <td> <img src=\"https://i.ibb.co/nmHHctW/test_image_00.jpg\" alt=\"Drawing\" style=\"width: 200px;\"/> </td>\n",
    "    <td> <img src=\"https://i.ibb.co/dM77C4b/test_image_06.jpg\" alt=\"Drawing\" style=\"width: 200px;\"/> </td>\n",
    "</tr></table>"
   ]
  },
  {
   "cell_type": "markdown",
   "metadata": {},
   "source": [
    "#### Задача №2 - Кусочки пазла.\n",
    "\n",
    "Даны кусочки изображения, ваша задача склеить пазл в исходную картинку. Для упрощения и проверки дано исходное изображение\n",
    "\n",
    "Примеры изображений:\n",
    "<img src=\"https://i.ibb.co/H78VtDb/image.jpg\" alt=\"Drawing\" style=\"width: 300px;\"/>\n",
    "<table><tr>\n",
    "    <td> <img src=\"https://i.ibb.co/Yh1dvJ8/image_part_002.jpg\" alt=\"Drawing\" style=\"width: 200px;\"/> </td>\n",
    "    <td> <img src=\"https://i.ibb.co/N9sCpjH/image_part_001.jpg\" alt=\"Drawing\" style=\"width: 200px;\"/> </td>\n",
    "    <td> <img src=\"https://i.ibb.co/jf1jGgD/image_part_004.jpg\" alt=\"Drawing\" style=\"width: 200px;\"/> </td>\n",
    "    <td> <img src=\"https://i.ibb.co/kBGYb8s/image_part_003.jpg\" alt=\"Drawing\" style=\"width: 200px;\"/> </td>\n",
    "</tr></table>"
   ]
  }
 ],
 "metadata": {
  "kernelspec": {
   "display_name": "Python 3",
   "language": "python",
   "name": "python3"
  },
  "language_info": {
   "codemirror_mode": {
    "name": "ipython",
    "version": 3
   },
   "file_extension": ".py",
   "mimetype": "text/x-python",
   "name": "python",
   "nbconvert_exporter": "python",
   "pygments_lexer": "ipython3",
   "version": "3.7.3"
  },
  "latex_envs": {
   "LaTeX_envs_menu_present": true,
   "autoclose": false,
   "autocomplete": true,
   "bibliofile": "biblio.bib",
   "cite_by": "apalike",
   "current_citInitial": 1,
   "eqLabelWithNumbers": true,
   "eqNumInitial": 1,
   "hotkeys": {
    "equation": "Ctrl-E",
    "itemize": "Ctrl-I"
   },
   "labels_anchors": false,
   "latex_user_defs": false,
   "report_style_numbering": false,
   "user_envs_cfg": false
  },
  "varInspector": {
   "cols": {
    "lenName": 16,
    "lenType": 16,
    "lenVar": 40
   },
   "kernels_config": {
    "python": {
     "delete_cmd_postfix": "",
     "delete_cmd_prefix": "del ",
     "library": "var_list.py",
     "varRefreshCmd": "print(var_dic_list())"
    },
    "r": {
     "delete_cmd_postfix": ") ",
     "delete_cmd_prefix": "rm(",
     "library": "var_list.r",
     "varRefreshCmd": "cat(var_dic_list()) "
    }
   },
   "types_to_exclude": [
    "module",
    "function",
    "builtin_function_or_method",
    "instance",
    "_Feature"
   ],
   "window_display": false
  }
 },
 "nbformat": 4,
 "nbformat_minor": 2
}
