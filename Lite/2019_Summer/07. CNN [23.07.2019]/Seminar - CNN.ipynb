{
 "cells": [
  {
   "cell_type": "markdown",
   "metadata": {},
   "source": [
    "# Семинар - Сверточные нейронные сети (Convolution neural network)"
   ]
  },
  {
   "cell_type": "code",
   "execution_count": null,
   "metadata": {},
   "outputs": [],
   "source": [
    "import random\n",
    "import numpy as np\n",
    "import pandas as pd\n",
    "\n",
    "from tqdm import tqdm\n",
    "import matplotlib.pyplot as plt\n",
    "import seaborn as sns\n",
    "\n",
    "from sklearn.model_selection import train_test_split\n",
    "from sklearn.metrics import accuracy_score\n",
    "from keras.datasets import cifar10"
   ]
  },
  {
   "cell_type": "markdown",
   "metadata": {},
   "source": [
    "## Загрузим данные"
   ]
  },
  {
   "cell_type": "code",
   "execution_count": null,
   "metadata": {
    "collapsed": true
   },
   "outputs": [],
   "source": [
    "(x_train, y_train), (x_test, y_test) = cifar10.load_data()"
   ]
  },
  {
   "cell_type": "code",
   "execution_count": null,
   "metadata": {},
   "outputs": [],
   "source": [
    "print('В трейне: ', x_train.shape[0], 'объектов, в тесте: ', x_test.shape[0])"
   ]
  },
  {
   "cell_type": "code",
   "execution_count": null,
   "metadata": {
    "collapsed": true
   },
   "outputs": [],
   "source": [
    "num_classes = 10 #\n",
    "class_names = ['plane', 'car', 'bird', 'cat', 'deer', 'dog', 'frog', 'horse', 'ship', 'truck']"
   ]
  },
  {
   "cell_type": "code",
   "execution_count": null,
   "metadata": {},
   "outputs": [],
   "source": [
    "# Сгенерируем случаные примеры для каждого класса\n",
    "fig = plt.figure(figsize=(8,3))\n",
    "for i in range(num_classes):\n",
    "    ax = fig.add_subplot(2, 5, 1 + i, xticks=[], yticks=[])\n",
    "    idx = np.where(y_train[:]==i)[0]\n",
    "    features_idx = x_train[idx,::]\n",
    "    img_num = np.random.randint(features_idx.shape[0])\n",
    "    im = np.transpose(features_idx[img_num,::],(0,1,2))\n",
    "    ax.set_title(class_names[i])\n",
    "    plt.imshow(im)\n",
    "plt.show()"
   ]
  },
  {
   "cell_type": "code",
   "execution_count": null,
   "metadata": {
    "collapsed": true
   },
   "outputs": [],
   "source": [
    "x_train, x_val, y_train, y_val =  train_test_split(x_train, y_train, test_size=3000, train_size=47000)"
   ]
  },
  {
   "cell_type": "code",
   "execution_count": null,
   "metadata": {},
   "outputs": [],
   "source": [
    "print('Training data shape: ', x_train.shape)\n",
    "print('Validation data shape: ', x_val.shape)\n",
    "print('Test data shape: ', x_test.shape)"
   ]
  },
  {
   "cell_type": "markdown",
   "metadata": {},
   "source": [
    "## Импорт библиотек и подготовка данных"
   ]
  },
  {
   "cell_type": "code",
   "execution_count": null,
   "metadata": {
    "collapsed": true
   },
   "outputs": [],
   "source": [
    "from keras.models import Sequential # Модель, где все слои соединены друг с другом\n",
    "from keras.layers import Input, Conv2D, MaxPooling2D, Dense, Dropout, Flatten \n",
    "from keras.utils import np_utils\n",
    "from keras.constraints import maxnorm\n",
    "from keras.optimizers import Adam"
   ]
  },
  {
   "cell_type": "code",
   "execution_count": null,
   "metadata": {},
   "outputs": [],
   "source": [
    "np.random.seed(18)\n",
    "\n",
    "x_train = x_train.astype('float32')\n",
    "x_val= x_val.astype('float32')\n",
    "x_test = x_test.astype('float32')"
   ]
  },
  {
   "cell_type": "markdown",
   "metadata": {},
   "source": [
    "__Масштабируем данные__"
   ]
  },
  {
   "cell_type": "code",
   "execution_count": null,
   "metadata": {
    "collapsed": true
   },
   "outputs": [],
   "source": [
    "# Ваш код здесь"
   ]
  },
  {
   "cell_type": "code",
   "execution_count": null,
   "metadata": {},
   "outputs": [],
   "source": [
    "# Закодируем целевую переменную\n",
    "y_train_ohe = # Ваш код здесь\n",
    "y_val_ohe = # Ваш код здесь\n",
    "y_test_ohe = # Ваш код здесь"
   ]
  },
  {
   "cell_type": "markdown",
   "metadata": {},
   "source": [
    "## Создание CNN\n",
    "__Baseline:__\n",
    "\n",
    "- Convolutional input layer, 16 feature maps with a size of 5×5, a rectifier activation function and a weight constraint of max norm set to 3.\n",
    "- Max Pool layer with size 2×2.\n",
    "- Convolutional layer, 16 feature maps with a size of 5×5, a rectifier activation function and a weight constraint of max norm set to 3.\n",
    "- Max Pool layer with size 2×2.\n",
    "- Flatten layer.\n",
    "- Fully connected layer with 512 units and a rectifier activation function.\n",
    "- Dropout set to 50%.\n",
    "- Fully connected layer with 128 units and a rectifier activation function.\n",
    "- Dropout set to 50%.\n",
    "- Fully connected output layer with 10 units and a softmax activation function."
   ]
  },
  {
   "cell_type": "code",
   "execution_count": null,
   "metadata": {
    "collapsed": true
   },
   "outputs": [],
   "source": [
    "lrate = 1e-5"
   ]
  },
  {
   "cell_type": "code",
   "execution_count": null,
   "metadata": {},
   "outputs": [],
   "source": [
    "# Создаем последовательную модель\n",
    "model = Sequential()\n",
    "\n",
    "# Добавляем слои\n",
    "# Ваш код здесь\n",
    "\n",
    "# Компилируем модель\n",
    "adam = Adam(lr=lrate)\n",
    "model.compile(loss='categorical_crossentropy', optimizer=adam, metrics=['accuracy'])\n",
    "print(model.summary())"
   ]
  },
  {
   "cell_type": "markdown",
   "metadata": {},
   "source": [
    "## Обучение CNN"
   ]
  },
  {
   "cell_type": "code",
   "execution_count": null,
   "metadata": {
    "collapsed": true
   },
   "outputs": [],
   "source": [
    "epochs = 50\n",
    "batch_size = 32"
   ]
  },
  {
   "cell_type": "code",
   "execution_count": null,
   "metadata": {},
   "outputs": [],
   "source": [
    "# Обучаем модель! \n",
    "history = model.fit(x_train, y_train_ohe,\n",
    "              epochs=epochs, batch_size=batch_size,\n",
    "              validation_data=(x_val, y_val_ohe),\n",
    "              shuffle=True)"
   ]
  },
  {
   "cell_type": "code",
   "execution_count": null,
   "metadata": {},
   "outputs": [],
   "source": [
    "plt.plot(history.history['val_acc'], label='Test')\n",
    "plt.plot(history.history['acc'], label='Train')\n",
    "plt.xlabel('Epoch number')\n",
    "plt.ylabel('Acc')\n",
    "plt.legend()\n",
    "plt.show()"
   ]
  },
  {
   "cell_type": "code",
   "execution_count": null,
   "metadata": {},
   "outputs": [],
   "source": [
    "accuracy_score(y_test, model.predict_classes(x_test))"
   ]
  },
  {
   "cell_type": "markdown",
   "metadata": {},
   "source": [
    "## Сохранение и загрузка моделей"
   ]
  },
  {
   "cell_type": "markdown",
   "metadata": {},
   "source": [
    "#### Сохранение модели"
   ]
  },
  {
   "cell_type": "code",
   "execution_count": null,
   "metadata": {
    "collapsed": true
   },
   "outputs": [],
   "source": [
    "with open('cnn.json', 'w') as model_file:\n",
    "            model_file.write(model.to_json())"
   ]
  },
  {
   "cell_type": "markdown",
   "metadata": {},
   "source": [
    "#### Сохранение весов"
   ]
  },
  {
   "cell_type": "code",
   "execution_count": null,
   "metadata": {
    "collapsed": true
   },
   "outputs": [],
   "source": [
    "model.save_weights('cnn.h5')"
   ]
  },
  {
   "cell_type": "markdown",
   "metadata": {},
   "source": [
    "#### Загрузка модели"
   ]
  },
  {
   "cell_type": "code",
   "execution_count": null,
   "metadata": {
    "collapsed": true
   },
   "outputs": [],
   "source": [
    "from keras.models import model_from_json\n",
    "\n",
    "json_file = open(\"cnn.json\", \"r\")\n",
    "loaded_model_json = json_file.read()\n",
    "json_file.close()\n",
    "# Создаем модель на основе загруженных данных\n",
    "loaded_model = model_from_json(loaded_model_json)"
   ]
  },
  {
   "cell_type": "code",
   "execution_count": null,
   "metadata": {},
   "outputs": [],
   "source": [
    "# Проверим\n",
    "loaded_model.summary()"
   ]
  },
  {
   "cell_type": "markdown",
   "metadata": {},
   "source": [
    "#### Загрузим обученные веса"
   ]
  },
  {
   "cell_type": "code",
   "execution_count": null,
   "metadata": {
    "collapsed": true
   },
   "outputs": [],
   "source": [
    "loaded_model.load_weights(\"cnn.h5\")"
   ]
  },
  {
   "cell_type": "markdown",
   "metadata": {
    "collapsed": true
   },
   "source": [
    "## Предсказания"
   ]
  },
  {
   "cell_type": "code",
   "execution_count": null,
   "metadata": {},
   "outputs": [],
   "source": [
    "predict = loaded_model.predict(x_test)\n",
    "predicted_class = model.predict_classes(x_test)\n",
    "print('Accuracy score: ', accuracy_score(y_test, predicted_class ))"
   ]
  },
  {
   "cell_type": "code",
   "execution_count": null,
   "metadata": {},
   "outputs": [],
   "source": [
    "# Проверим случаный семпл:\n",
    "num_pred = np.random.randint(0,999)\n",
    "\n",
    "print('True class: ' + class_names[np.where(y_test_ohe[num_pred]==1)[0][0]])\n",
    "print('Predicted class: ' + class_names[predicted_class[num_pred]])\n",
    "\n",
    "\n",
    "fig, (ax1, ax2) = plt.subplots(\n",
    "    nrows=1, ncols=2,\n",
    "    figsize=(15, 5)\n",
    ")\n",
    "\n",
    "ax1.imshow(x_test[num_pred])\n",
    "pd.Series(predict[num_pred], index=class_names).plot(kind='barh', ax=ax2, figsize=(12,4))\n",
    "plt.show()"
   ]
  },
  {
   "cell_type": "markdown",
   "metadata": {},
   "source": [
    "## Как \"видит\" мир нейронная сеть"
   ]
  },
  {
   "cell_type": "code",
   "execution_count": null,
   "metadata": {
    "collapsed": true
   },
   "outputs": [],
   "source": [
    "from keras import Model"
   ]
  },
  {
   "cell_type": "code",
   "execution_count": null,
   "metadata": {
    "collapsed": true
   },
   "outputs": [],
   "source": [
    "# Функция для отрисовки фильтров\n",
    "def plot_conv_weights(model, layer_name):\n",
    "    W = model.get_layer(name=layer_name).get_weights()[0]\n",
    "    if len(W.shape) == 4:\n",
    "        W = np.squeeze(W)\n",
    "        W = W.reshape((W.shape[0], W.shape[1], W.shape[2]*W.shape[3]))\n",
    "        \n",
    "        fig, axs = plt.subplots(2,8, figsize=(16,4))\n",
    "\n",
    "        fig.subplots_adjust(hspace = .2, wspace=0.5)\n",
    "        axs = axs.ravel()\n",
    "        for i in range(16):\n",
    "            axs[i].imshow(W[:,:,i], cmap='binary')\n",
    "            axs[i].set_title(str(i+1))"
   ]
  },
  {
   "cell_type": "code",
   "execution_count": null,
   "metadata": {},
   "outputs": [],
   "source": [
    "plot_conv_weights(loaded_model, 'conv2d_13')\n",
    "plot_conv_weights(loaded_model, 'conv2d_14')"
   ]
  },
  {
   "cell_type": "code",
   "execution_count": null,
   "metadata": {},
   "outputs": [],
   "source": [
    "#Выберем слой, для визуализации:\n",
    "\n",
    "layer = 0\n",
    "\n",
    "activation_model = Model(inputs=loaded_model.input, \n",
    "                         outputs=loaded_model.layers[layer].output)\n",
    "activation_model.summary()\n",
    "\n",
    "test_img = np.expand_dims(x_test[num_pred], axis=0)\n",
    "activation = activation_model.predict(test_img)\n",
    "\n",
    "print(activation.shape)\n"
   ]
  },
  {
   "cell_type": "code",
   "execution_count": null,
   "metadata": {},
   "outputs": [],
   "source": [
    "plt.title(class_names[np.where(y_test_ohe[num_pred]==1)[0][0]])\n",
    "plt.imshow(x_test[num_pred])\n",
    "\n",
    "fig, axs = plt.subplots(2,8, figsize=(16,4))\n",
    "fig.subplots_adjust(hspace = .2, wspace=0.5)\n",
    "axs = axs.ravel()\n",
    "for i in range(16):\n",
    "    axs[i].imshow(activation[0, :, :, i], cmap='binary')\n",
    "    axs[i].set_title(str(i+1))"
   ]
  }
 ],
 "metadata": {
  "kernelspec": {
   "display_name": "Python 3",
   "language": "python",
   "name": "python3"
  },
  "language_info": {
   "codemirror_mode": {
    "name": "ipython",
    "version": 3
   },
   "file_extension": ".py",
   "mimetype": "text/x-python",
   "name": "python",
   "nbconvert_exporter": "python",
   "pygments_lexer": "ipython3",
   "version": "3.6.6"
  }
 },
 "nbformat": 4,
 "nbformat_minor": 2
}
