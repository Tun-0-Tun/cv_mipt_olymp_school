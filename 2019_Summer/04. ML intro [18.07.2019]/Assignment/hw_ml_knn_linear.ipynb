{
 "cells": [
  {
   "cell_type": "code",
   "execution_count": null,
   "metadata": {
    "collapsed": true
   },
   "outputs": [],
   "source": [
    "from sklearn.datasets import fetch_olivetti_faces\n",
    "from sklearn.metrics import mean_squared_error\n",
    "\n",
    "import numpy as np\n",
    "import matplotlib.pyplot as plt"
   ]
  },
  {
   "cell_type": "markdown",
   "metadata": {},
   "source": [
    "# Домашнее задание 1\n",
    "\n",
    "В задаче необходимо по верхней части лица восстановить нижнюю половину\n",
    "\n",
    "Ответы нужно записывать в эту [Форму](https://docs.google.com/forms/d/e/1FAIpQLSekha0_1EgtouIfkPy7lxhj5MMXeSfVVseEXGq9D-hNKVViSA/viewform)\n"
   ]
  },
  {
   "cell_type": "code",
   "execution_count": null,
   "metadata": {
    "collapsed": true
   },
   "outputs": [],
   "source": [
    "# Загружаем наборы данных\n",
    "data = fetch_olivetti_faces(random_state=18)\n",
    "targets = data.target\n",
    "\n",
    "data = data.images.reshape((len(data.images), -1))\n",
    "train = data[targets < 30]\n",
    "test = data[targets >= 30]"
   ]
  },
  {
   "cell_type": "code",
   "execution_count": null,
   "metadata": {
    "collapsed": true
   },
   "outputs": [],
   "source": [
    "# Посмотрим на размеры выборок:\n",
    "train.shape, test.shape"
   ]
  },
  {
   "cell_type": "code",
   "execution_count": null,
   "metadata": {
    "collapsed": true
   },
   "outputs": [],
   "source": [
    "n_pixels = data.shape[1]\n",
    "# Верхняя половина лиц\n",
    "X_train = train[:, :(n_pixels + 1) // 2]\n",
    "X_test = test[:, :(n_pixels + 1) // 2]\n",
    "\n",
    "\n",
    "# Нижняя половина лиц\n",
    "y_train = train[:, n_pixels // 2:]\n",
    "y_test = test[:, n_pixels // 2:]"
   ]
  },
  {
   "cell_type": "code",
   "execution_count": null,
   "metadata": {
    "collapsed": true
   },
   "outputs": [],
   "source": [
    "# Нарисуем случайное лицо: \n",
    "n = np.random.randint(300)\n",
    "view = np.hstack((X_train[n], y_train[n]))\n",
    "plt.imshow(view.reshape(64,64), cmap='gray')\n",
    "plt.show()"
   ]
  },
  {
   "cell_type": "code",
   "execution_count": null,
   "metadata": {
    "collapsed": true
   },
   "outputs": [],
   "source": [
    "# Нарисуем Среднее лицо (Не забывайте использовать параметр axis в применении np.mean): \n",
    "mean_top = # Ваш код здесь\n",
    "mean_bottom = # Ваш код здесь\n",
    "\n",
    "view = np.hstack((mean_top, mean_bottom ))\n",
    "plt.imshow(view.reshape(64,64), cmap='gray')\n",
    "plt.show()"
   ]
  },
  {
   "cell_type": "code",
   "execution_count": null,
   "metadata": {
    "collapsed": true
   },
   "outputs": [],
   "source": [
    "# Нарисуем случайную половину верха лица из теста и дополним его средним значением: \n",
    "\n",
    "n = np.random.randint(100)\n",
    "\n",
    "fig, (ax1, ax2) = plt.subplots(\n",
    "    nrows=1, ncols=2,\n",
    "    figsize=(8, 4)\n",
    ")\n",
    "\n",
    "\n",
    "view = np.hstack((X_test[n], y_test[n]))\n",
    "ax1.imshow(view.reshape(64,64), cmap='gray')\n",
    "ax1.set_title(\"Истинное лицо\")\n",
    "\n",
    "view = np.hstack((X_test[n], mean_bottom))\n",
    "ax2.imshow(view.reshape(64,64), cmap='gray')\n",
    "ax2.set_title('Среднее значение')\n",
    "\n",
    "\n",
    "plt.show()"
   ]
  },
  {
   "cell_type": "markdown",
   "metadata": {},
   "source": [
    "Перезапустите несколько раз ячейку сверху, на сколько \"среднее\" лицо похоже на правду?  \n",
    "\n",
    "## Задание 1: \n",
    "Давайте посчитаем ошибку mean_squared_error на тесте, если отвечать всегда средним лицом (mean_bottom) полученном на трейне? \n",
    "[Форму](https://docs.google.com/forms/d/e/1FAIpQLSekha0_1EgtouIfkPy7lxhj5MMXeSfVVseEXGq9D-hNKVViSA/viewform)"
   ]
  },
  {
   "cell_type": "code",
   "execution_count": null,
   "metadata": {
    "collapsed": true
   },
   "outputs": [],
   "source": [
    "# Ваш код здесь"
   ]
  },
  {
   "cell_type": "markdown",
   "metadata": {},
   "source": [
    "## Задание 2\n",
    "\n",
    "Мы решаем задачу регрессии: Нам нужно восстановить 2048 (нижняя половина) чисел. \n",
    "Воспользуемся для этого методом ближайших соседей"
   ]
  },
  {
   "cell_type": "code",
   "execution_count": null,
   "metadata": {
    "collapsed": true
   },
   "outputs": [],
   "source": [
    "from sklearn.neighbors import KNeighborsRegressor"
   ]
  },
  {
   "cell_type": "code",
   "execution_count": null,
   "metadata": {
    "collapsed": true
   },
   "outputs": [],
   "source": [
    "# Ваш код здесь\n",
    "pred = # Ваш код здесь"
   ]
  },
  {
   "cell_type": "markdown",
   "metadata": {},
   "source": [
    "Сравним, насколько лучше выглядит \"востановленное\" лицо "
   ]
  },
  {
   "cell_type": "code",
   "execution_count": null,
   "metadata": {
    "collapsed": true
   },
   "outputs": [],
   "source": [
    "# Нарисуем случайную половину верха лица из теста и дополним его средним значением: \n",
    "\n",
    "n = np.random.randint(100)\n",
    "\n",
    "fig, (ax1, ax2, ax3) = plt.subplots(\n",
    "    nrows=1, ncols=3,\n",
    "    figsize=(12, 4)\n",
    ")\n",
    "\n",
    "\n",
    "view = np.hstack((X_test[n], y_test[n]))\n",
    "ax1.imshow(view.reshape(64,64), cmap='gray')\n",
    "ax1.set_title(\"Истинное лицо\")\n",
    "\n",
    "view = np.hstack((X_test[n], mean_bottom))\n",
    "ax2.imshow(view.reshape(64,64), cmap='gray')\n",
    "ax2.set_title('Среднее значение')\n",
    "\n",
    "view = np.hstack((X_test[n], pred[n]))\n",
    "ax3.imshow(view.reshape(64,64), cmap='gray')\n",
    "ax3.set_title('kNN')\n",
    "\n",
    "plt.show()"
   ]
  },
  {
   "cell_type": "markdown",
   "metadata": {},
   "source": [
    "Посчитаем ошибку mean_squared_error на тесте, для kNN обученного по умолчанию. Ответ занести в задание 2 в \n",
    "[Форме](https://docs.google.com/forms/d/e/1FAIpQLSe73XPxLHz49iSh7849jxbbNpv0wCTUbDYz1lBaD44J431NTA/viewform)"
   ]
  },
  {
   "cell_type": "code",
   "execution_count": null,
   "metadata": {
    "collapsed": true
   },
   "outputs": [],
   "source": [
    "# Ваш код здесь"
   ]
  },
  {
   "cell_type": "markdown",
   "metadata": {},
   "source": [
    "# Задание 3\n",
    "Найдите оптимальное (Где достигается минимум mean_squared_error) значение ближайших соседей (Используйте числа от 1 до 100). Ответ занести в задание 3 в \n",
    "[Форме](https://docs.google.com/forms/d/e/1FAIpQLSekha0_1EgtouIfkPy7lxhj5MMXeSfVVseEXGq9D-hNKVViSA/viewform)"
   ]
  },
  {
   "cell_type": "code",
   "execution_count": null,
   "metadata": {
    "collapsed": true
   },
   "outputs": [],
   "source": [
    "list_mse = []\n",
    "\n",
    "# Ваш код здесь\n",
    "\n",
    "plt.plot(range(100), list_mse)\n",
    "plt.show()"
   ]
  },
  {
   "cell_type": "markdown",
   "metadata": {},
   "source": [
    "# Задание 4\n",
    "Обучите Линейную регрессию с параметрами по умолчанию и посчитайте MSE для теста. Ответ округлите до 2 знаков и занесите в задание 4 в \n",
    "[Форме](https://docs.google.com/forms/d/e/1FAIpQLSekha0_1EgtouIfkPy7lxhj5MMXeSfVVseEXGq9D-hNKVViSA/viewform)"
   ]
  },
  {
   "cell_type": "code",
   "execution_count": null,
   "metadata": {
    "collapsed": true
   },
   "outputs": [],
   "source": [
    "from sklearn.linear_model import LinearRegression"
   ]
  },
  {
   "cell_type": "code",
   "execution_count": null,
   "metadata": {
    "collapsed": true
   },
   "outputs": [],
   "source": [
    "# Ваш код здесь\n",
    "pred_linear = # Ваш код здесь"
   ]
  },
  {
   "cell_type": "markdown",
   "metadata": {},
   "source": [
    "Нарисуем, резульаты разных моделей: "
   ]
  },
  {
   "cell_type": "code",
   "execution_count": null,
   "metadata": {
    "collapsed": true
   },
   "outputs": [],
   "source": [
    "n = np.random.randint(100)\n",
    "\n",
    "fig, (ax1, ax2, ax3, ax4) = plt.subplots(\n",
    "    nrows=1, ncols=4,\n",
    "    figsize=(16, 4)\n",
    ")\n",
    "\n",
    "\n",
    "view = np.hstack((X_test[n], y_test[n]))\n",
    "ax1.imshow(view.reshape(64,64), cmap='gray')\n",
    "ax1.set_title(\"Истинное лицо\")\n",
    "\n",
    "view = np.hstack((X_test[n], mean_bottom))\n",
    "ax2.imshow(view.reshape(64,64), cmap='gray')\n",
    "ax2.set_title('Среднее значение')\n",
    "\n",
    "view = np.hstack((X_test[n], pred[n]))\n",
    "ax3.imshow(view.reshape(64,64), cmap='gray')\n",
    "ax3.set_title('kNN')\n",
    "\n",
    "\n",
    "view = np.hstack((X_test[n], pred_linear[n]))\n",
    "ax4.imshow(view.reshape(64,64), cmap='gray')\n",
    "ax4.set_title('Linear')\n",
    "\n",
    "\n",
    "\n",
    "plt.show()"
   ]
  },
  {
   "cell_type": "markdown",
   "metadata": {},
   "source": [
    "## Страшно?\n",
    "\n",
    "# Задание 5\n",
    "Обучите Линейные модели Lasso (L1) и Ridge (L2), посчитайте MSE для теста. Ответ округлите до 2 знаков и занесите в задание 5 в \n",
    "[Форме](https://docs.google.com/forms/d/e/1FAIpQLSekha0_1EgtouIfkPy7lxhj5MMXeSfVVseEXGq9D-hNKVViSA/viewform)"
   ]
  },
  {
   "cell_type": "code",
   "execution_count": null,
   "metadata": {
    "collapsed": true
   },
   "outputs": [],
   "source": [
    "from sklearn.linear_model import Lasso, Ridge"
   ]
  },
  {
   "cell_type": "code",
   "execution_count": null,
   "metadata": {
    "collapsed": true
   },
   "outputs": [],
   "source": [
    "# Ваш код здесь"
   ]
  },
  {
   "cell_type": "markdown",
   "metadata": {},
   "source": [
    "# Завершите ДЗ:\n",
    "Теоретическая часть в [Форме](https://docs.google.com/forms/d/e/1FAIpQLSekha0_1EgtouIfkPy7lxhj5MMXeSfVVseEXGq9D-hNKVViSA/viewform)"
   ]
  }
 ],
 "metadata": {
  "kernelspec": {
   "display_name": "Python 3",
   "language": "python",
   "name": "python3"
  },
  "language_info": {
   "codemirror_mode": {
    "name": "ipython",
    "version": 3
   },
   "file_extension": ".py",
   "mimetype": "text/x-python",
   "name": "python",
   "nbconvert_exporter": "python",
   "pygments_lexer": "ipython3",
   "version": "3.6.6"
  }
 },
 "nbformat": 4,
 "nbformat_minor": 2
}
