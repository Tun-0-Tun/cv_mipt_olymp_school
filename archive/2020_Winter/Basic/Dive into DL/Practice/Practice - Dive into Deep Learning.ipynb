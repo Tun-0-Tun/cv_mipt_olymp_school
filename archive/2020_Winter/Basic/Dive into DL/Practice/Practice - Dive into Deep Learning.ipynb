{
 "cells": [
  {
   "cell_type": "code",
   "execution_count": 1,
   "metadata": {
    "collapsed": true
   },
   "outputs": [],
   "source": [
    "import pandas as pd\n",
    "import numpy as np\n",
    "\n",
    "import matplotlib.pyplot as plt\n",
    "from tqdm import tqdm\n",
    "import warnings\n",
    "warnings.simplefilter('ignore')"
   ]
  },
  {
   "cell_type": "markdown",
   "metadata": {},
   "source": [
    "# Практика: Погружение в глубокое обучение\n",
    "В семинаре, будем использовать набор данных `fashion_mnist`, загрузим их"
   ]
  },
  {
   "cell_type": "code",
   "execution_count": 2,
   "metadata": {},
   "outputs": [
    {
     "name": "stderr",
     "output_type": "stream",
     "text": [
      "Using TensorFlow backend.\n"
     ]
    },
    {
     "name": "stdout",
     "output_type": "stream",
     "text": [
      "Training data shape:  (60000, 28, 28)\n",
      "Test data shape:  (10000, 28, 28)\n"
     ]
    }
   ],
   "source": [
    "from keras.datasets import fashion_mnist\n",
    "(x_train, y_train_cat), (x_test, y_test_cat) = fashion_mnist.load_data()\n",
    "print('Training data shape: ', x_train.shape)\n",
    "print('Test data shape: ', x_test.shape)\n",
    "\n",
    "num_classes = 10\n",
    "class_names = ['T-shirt/top', 'Trouser', 'Pullover', \n",
    "               'Dress', 'Coat', 'Sandal', 'Shirt', 'Sneaker', 'Bag', 'Ankle boot']"
   ]
  },
  {
   "cell_type": "markdown",
   "metadata": {},
   "source": [
    "Сгенерируем случаные примеры для каждого класса и посмотрим на них."
   ]
  },
  {
   "cell_type": "code",
   "execution_count": 3,
   "metadata": {},
   "outputs": [
    {
     "data": {
      "image/png": "[encoded data removed]",
      "text/plain": [
       "<Figure size 1080x360 with 10 Axes>"
      ]
     },
     "metadata": {},
     "output_type": "display_data"
    }
   ],
   "source": [
    "fig = plt.figure(figsize=(15,5))\n",
    "for i in range(num_classes):\n",
    "    ax = fig.add_subplot(2, 5, 1 + i, xticks=[], yticks=[])\n",
    "    idx = np.where(y_train_cat[:]==i)[0]\n",
    "    features_idx = x_train[idx,::]\n",
    "    img_num = np.random.randint(features_idx.shape[0])\n",
    "    im = features_idx[img_num]\n",
    "    ax.set_title(class_names[i])\n",
    "    plt.imshow(im, cmap='gray_r')\n",
    "plt.show()"
   ]
  },
  {
   "cell_type": "markdown",
   "metadata": {},
   "source": [
    "##  Построим нашу первую нейросеть\n",
    "Импорт `Keras`"
   ]
  },
  {
   "cell_type": "code",
   "execution_count": 4,
   "metadata": {
    "collapsed": true
   },
   "outputs": [],
   "source": [
    "from keras.models import Sequential # Модель, где все слои соединены друг с другом\n",
    "from keras.layers import Dense, Flatten, Activation # Слой, где все нйероны предыдущего уровня соединены с нейронами следующего\n",
    "from keras.utils import np_utils\n",
    "from keras.optimizers import SGD,Adam,RMSprop"
   ]
  },
  {
   "cell_type": "markdown",
   "metadata": {},
   "source": [
    "### Проведем небольшие предобработки"
   ]
  },
  {
   "cell_type": "code",
   "execution_count": 5,
   "metadata": {
    "collapsed": true
   },
   "outputs": [],
   "source": [
    "y_train = np_utils.to_categorical(y_train_cat, num_classes=num_classes)\n",
    "y_test = np_utils.to_categorical(y_test_cat, num_classes=num_classes)"
   ]
  },
  {
   "cell_type": "markdown",
   "metadata": {},
   "source": [
    "### Построим модель"
   ]
  },
  {
   "cell_type": "code",
   "execution_count": 7,
   "metadata": {
    "collapsed": true
   },
   "outputs": [],
   "source": [
    "input_shape = x_train.shape[1:]"
   ]
  },
  {
   "cell_type": "code",
   "execution_count": 8,
   "metadata": {},
   "outputs": [
    {
     "data": {
      "text/plain": [
       "(28, 28)"
      ]
     },
     "execution_count": 8,
     "metadata": {},
     "output_type": "execute_result"
    }
   ],
   "source": [
    "input_shape"
   ]
  },
  {
   "cell_type": "code",
   "execution_count": 14,
   "metadata": {},
   "outputs": [],
   "source": [
    "# Создаем последовательную модель\n",
    "model = Sequential()\n",
    "\n",
    "# Добавляем слои\n",
    "model.add(Flatten(input_shape=input_shape))\n",
    "model.add(Dense(20))\n",
    "model.add(Activation('sigmoid'))\n",
    "model.add(Dense(10))\n",
    "model.add(Activation('sigmoid'))\n",
    "model.add(Dense(10))\n",
    "model.add(Activation('softmax'))\n",
    "\n",
    "# Компилируем модель\n",
    "optimizer = SGD(lr=0.1)\n",
    "model.compile(optimizer=optimizer, loss='categorical_crossentropy', \n",
    "              metrics=['accuracy'])"
   ]
  },
  {
   "cell_type": "code",
   "execution_count": 15,
   "metadata": {},
   "outputs": [
    {
     "name": "stdout",
     "output_type": "stream",
     "text": [
      "_________________________________________________________________\n",
      "Layer (type)                 Output Shape              Param #   \n",
      "=================================================================\n",
      "flatten_2 (Flatten)          (None, 784)               0         \n",
      "_________________________________________________________________\n",
      "dense_3 (Dense)              (None, 20)                15700     \n",
      "_________________________________________________________________\n",
      "activation_3 (Activation)    (None, 20)                0         \n",
      "_________________________________________________________________\n",
      "dense_4 (Dense)              (None, 10)                210       \n",
      "_________________________________________________________________\n",
      "activation_4 (Activation)    (None, 10)                0         \n",
      "_________________________________________________________________\n",
      "dense_5 (Dense)              (None, 10)                110       \n",
      "_________________________________________________________________\n",
      "activation_5 (Activation)    (None, 10)                0         \n",
      "=================================================================\n",
      "Total params: 16,020\n",
      "Trainable params: 16,020\n",
      "Non-trainable params: 0\n",
      "_________________________________________________________________\n",
      "None\n"
     ]
    }
   ],
   "source": [
    "print(model.summary())"
   ]
  },
  {
   "cell_type": "markdown",
   "metadata": {},
   "source": [
    "#### Вопрос: \n",
    "Почему: $784 \\times 20 = 156 80$, а сетка показывает число параметров: $15700$?"
   ]
  },
  {
   "cell_type": "markdown",
   "metadata": {},
   "source": [
    "### Обучим модель, задав параметры"
   ]
  },
  {
   "cell_type": "code",
   "execution_count": 16,
   "metadata": {
    "collapsed": true
   },
   "outputs": [],
   "source": [
    "batch_size = 1000 # Выбираем размер Батча\n",
    "epochs = 100"
   ]
  },
  {
   "cell_type": "code",
   "execution_count": 17,
   "metadata": {
    "scrolled": true
   },
   "outputs": [
    {
     "name": "stdout",
     "output_type": "stream",
     "text": [
      "Train on 60000 samples, validate on 10000 samples\n",
      "Epoch 1/100\n",
      "60000/60000 [==============================] - 1s 15us/step - loss: 2.2408 - acc: 0.2518 - val_loss: 2.1485 - val_acc: 0.4041\n",
      "Epoch 2/100\n",
      "60000/60000 [==============================] - 1s 9us/step - loss: 2.0662 - acc: 0.5301 - val_loss: 1.9835 - val_acc: 0.5718\n",
      "Epoch 3/100\n",
      "60000/60000 [==============================] - 1s 9us/step - loss: 1.8925 - acc: 0.5899 - val_loss: 1.8060 - val_acc: 0.6063\n",
      "Epoch 4/100\n",
      "60000/60000 [==============================] - 0s 7us/step - loss: 1.7190 - acc: 0.6179 - val_loss: 1.6352 - val_acc: 0.6308\n",
      "Epoch 5/100\n",
      "60000/60000 [==============================] - 0s 7us/step - loss: 1.5639 - acc: 0.6439 - val_loss: 1.5026 - val_acc: 0.6357\n",
      "Epoch 6/100\n",
      "60000/60000 [==============================] - 0s 7us/step - loss: 1.4355 - acc: 0.6608 - val_loss: 1.3841 - val_acc: 0.6609\n",
      "Epoch 7/100\n",
      "60000/60000 [==============================] - 0s 8us/step - loss: 1.3232 - acc: 0.6735 - val_loss: 1.2777 - val_acc: 0.6734\n",
      "Epoch 8/100\n",
      "60000/60000 [==============================] - 1s 9us/step - loss: 1.2282 - acc: 0.6839 - val_loss: 1.1841 - val_acc: 0.6884\n",
      "Epoch 9/100\n",
      "60000/60000 [==============================] - 0s 7us/step - loss: 1.1473 - acc: 0.6920 - val_loss: 1.1212 - val_acc: 0.6973\n",
      "Epoch 10/100\n",
      "60000/60000 [==============================] - 0s 7us/step - loss: 1.0841 - acc: 0.6963 - val_loss: 1.0850 - val_acc: 0.6817\n",
      "Epoch 11/100\n",
      "60000/60000 [==============================] - 0s 7us/step - loss: 1.0240 - acc: 0.7019 - val_loss: 0.9984 - val_acc: 0.7005\n",
      "Epoch 12/100\n",
      "60000/60000 [==============================] - 0s 7us/step - loss: 0.9732 - acc: 0.7065 - val_loss: 0.9459 - val_acc: 0.7122\n",
      "Epoch 13/100\n",
      "60000/60000 [==============================] - 0s 7us/step - loss: 0.9321 - acc: 0.7104 - val_loss: 0.9288 - val_acc: 0.7086\n",
      "Epoch 14/100\n",
      "60000/60000 [==============================] - 0s 7us/step - loss: 0.8908 - acc: 0.7154 - val_loss: 0.9056 - val_acc: 0.7090\n",
      "Epoch 15/100\n",
      "60000/60000 [==============================] - 0s 7us/step - loss: 0.8663 - acc: 0.7155 - val_loss: 0.8541 - val_acc: 0.7186\n",
      "Epoch 16/100\n",
      "60000/60000 [==============================] - 0s 8us/step - loss: 0.8327 - acc: 0.7202 - val_loss: 0.8358 - val_acc: 0.7326\n",
      "Epoch 17/100\n",
      "60000/60000 [==============================] - 0s 7us/step - loss: 0.8137 - acc: 0.7224 - val_loss: 0.8223 - val_acc: 0.7241\n",
      "Epoch 18/100\n",
      "60000/60000 [==============================] - 0s 7us/step - loss: 0.7943 - acc: 0.7216 - val_loss: 0.8260 - val_acc: 0.7010\n",
      "Epoch 19/100\n",
      "60000/60000 [==============================] - 0s 7us/step - loss: 0.7805 - acc: 0.7212 - val_loss: 0.7937 - val_acc: 0.7091\n",
      "Epoch 20/100\n",
      "60000/60000 [==============================] - 0s 7us/step - loss: 0.7626 - acc: 0.7222 - val_loss: 0.7732 - val_acc: 0.7197\n",
      "Epoch 21/100\n",
      "60000/60000 [==============================] - 0s 7us/step - loss: 0.7515 - acc: 0.7265 - val_loss: 0.7879 - val_acc: 0.7283\n",
      "Epoch 22/100\n",
      "60000/60000 [==============================] - 1s 9us/step - loss: 0.7447 - acc: 0.7287 - val_loss: 0.7436 - val_acc: 0.7245\n",
      "Epoch 23/100\n",
      "60000/60000 [==============================] - 0s 8us/step - loss: 0.7380 - acc: 0.7293 - val_loss: 0.7501 - val_acc: 0.7186\n",
      "Epoch 24/100\n",
      "60000/60000 [==============================] - 1s 8us/step - loss: 0.7334 - acc: 0.7246 - val_loss: 0.7360 - val_acc: 0.7198\n",
      "Epoch 25/100\n",
      "60000/60000 [==============================] - 0s 8us/step - loss: 0.7147 - acc: 0.7275 - val_loss: 0.7489 - val_acc: 0.7084\n",
      "Epoch 26/100\n",
      "60000/60000 [==============================] - 1s 9us/step - loss: 0.7148 - acc: 0.7308 - val_loss: 0.7133 - val_acc: 0.7282\n",
      "Epoch 27/100\n",
      "60000/60000 [==============================] - 0s 8us/step - loss: 0.7124 - acc: 0.7338 - val_loss: 0.7515 - val_acc: 0.7353\n",
      "Epoch 28/100\n",
      "60000/60000 [==============================] - 0s 8us/step - loss: 0.6970 - acc: 0.7390 - val_loss: 0.7088 - val_acc: 0.7283\n",
      "Epoch 29/100\n",
      "60000/60000 [==============================] - 0s 8us/step - loss: 0.6913 - acc: 0.7405 - val_loss: 0.7274 - val_acc: 0.7508\n",
      "Epoch 30/100\n",
      "60000/60000 [==============================] - 0s 8us/step - loss: 0.6851 - acc: 0.7470 - val_loss: 0.6893 - val_acc: 0.7378\n",
      "Epoch 31/100\n",
      "60000/60000 [==============================] - 0s 7us/step - loss: 0.6860 - acc: 0.7418 - val_loss: 0.7025 - val_acc: 0.7414\n",
      "Epoch 32/100\n",
      "60000/60000 [==============================] - 0s 8us/step - loss: 0.6793 - acc: 0.7478 - val_loss: 0.6961 - val_acc: 0.7301\n",
      "Epoch 33/100\n",
      "60000/60000 [==============================] - 0s 8us/step - loss: 0.6722 - acc: 0.7519 - val_loss: 0.6944 - val_acc: 0.7479\n",
      "Epoch 34/100\n",
      "60000/60000 [==============================] - 0s 8us/step - loss: 0.6739 - acc: 0.7457 - val_loss: 0.6746 - val_acc: 0.7349\n",
      "Epoch 35/100\n",
      "60000/60000 [==============================] - 1s 9us/step - loss: 0.6697 - acc: 0.7449 - val_loss: 0.6626 - val_acc: 0.7456\n",
      "Epoch 36/100\n",
      "60000/60000 [==============================] - 0s 8us/step - loss: 0.6620 - acc: 0.7453 - val_loss: 0.6872 - val_acc: 0.7299\n",
      "Epoch 37/100\n",
      "60000/60000 [==============================] - 0s 8us/step - loss: 0.6616 - acc: 0.7520 - val_loss: 0.6862 - val_acc: 0.7525\n",
      "Epoch 38/100\n",
      "60000/60000 [==============================] - 0s 8us/step - loss: 0.6665 - acc: 0.7567 - val_loss: 0.6718 - val_acc: 0.7496\n",
      "Epoch 39/100\n",
      "60000/60000 [==============================] - 0s 8us/step - loss: 0.6501 - acc: 0.7496 - val_loss: 0.6584 - val_acc: 0.7555\n",
      "Epoch 40/100\n",
      "60000/60000 [==============================] - 0s 8us/step - loss: 0.6444 - acc: 0.7596 - val_loss: 0.6924 - val_acc: 0.7246\n",
      "Epoch 41/100\n",
      "60000/60000 [==============================] - 0s 8us/step - loss: 0.6396 - acc: 0.7624 - val_loss: 0.6728 - val_acc: 0.7440\n",
      "Epoch 42/100\n",
      "60000/60000 [==============================] - 0s 8us/step - loss: 0.6461 - acc: 0.7579 - val_loss: 0.6455 - val_acc: 0.7578\n",
      "Epoch 43/100\n",
      "60000/60000 [==============================] - 0s 7us/step - loss: 0.6371 - acc: 0.7585 - val_loss: 0.6825 - val_acc: 0.7517\n",
      "Epoch 44/100\n",
      "60000/60000 [==============================] - 0s 8us/step - loss: 0.6297 - acc: 0.7656 - val_loss: 0.6700 - val_acc: 0.7500\n",
      "Epoch 45/100\n",
      "60000/60000 [==============================] - 0s 7us/step - loss: 0.6254 - acc: 0.7700 - val_loss: 0.6538 - val_acc: 0.7593\n",
      "Epoch 46/100\n",
      "60000/60000 [==============================] - 0s 8us/step - loss: 0.6160 - acc: 0.7740 - val_loss: 0.6239 - val_acc: 0.7750\n",
      "Epoch 47/100\n",
      "60000/60000 [==============================] - 0s 8us/step - loss: 0.6214 - acc: 0.7705 - val_loss: 0.6593 - val_acc: 0.7575\n",
      "Epoch 48/100\n",
      "60000/60000 [==============================] - 0s 7us/step - loss: 0.6220 - acc: 0.7737 - val_loss: 0.6366 - val_acc: 0.7657\n",
      "Epoch 49/100\n",
      "60000/60000 [==============================] - 0s 8us/step - loss: 0.6343 - acc: 0.7658 - val_loss: 0.6694 - val_acc: 0.7441\n",
      "Epoch 50/100\n",
      "60000/60000 [==============================] - 0s 8us/step - loss: 0.6408 - acc: 0.7619 - val_loss: 0.6861 - val_acc: 0.7505\n",
      "Epoch 51/100\n",
      "60000/60000 [==============================] - 0s 8us/step - loss: 0.6290 - acc: 0.7674 - val_loss: 0.6325 - val_acc: 0.7687\n",
      "Epoch 52/100\n",
      "60000/60000 [==============================] - 0s 7us/step - loss: 0.6245 - acc: 0.7733 - val_loss: 0.6300 - val_acc: 0.7702\n",
      "Epoch 53/100\n",
      "60000/60000 [==============================] - 0s 8us/step - loss: 0.6314 - acc: 0.7639 - val_loss: 0.6861 - val_acc: 0.7511\n",
      "Epoch 54/100\n",
      "60000/60000 [==============================] - 0s 8us/step - loss: 0.6540 - acc: 0.7575 - val_loss: 0.6734 - val_acc: 0.7631\n",
      "Epoch 55/100\n",
      "60000/60000 [==============================] - 0s 8us/step - loss: 0.6371 - acc: 0.7641 - val_loss: 0.6650 - val_acc: 0.7620\n",
      "Epoch 56/100\n",
      "60000/60000 [==============================] - 0s 8us/step - loss: 0.6364 - acc: 0.7675 - val_loss: 0.6568 - val_acc: 0.7691\n",
      "Epoch 57/100\n",
      "60000/60000 [==============================] - 0s 8us/step - loss: 0.6377 - acc: 0.7803 - val_loss: 0.6353 - val_acc: 0.7772\n",
      "Epoch 58/100\n",
      "60000/60000 [==============================] - 0s 7us/step - loss: 0.6191 - acc: 0.7763 - val_loss: 0.6415 - val_acc: 0.7763\n",
      "Epoch 59/100\n",
      "60000/60000 [==============================] - 0s 8us/step - loss: 0.6226 - acc: 0.7748 - val_loss: 0.6544 - val_acc: 0.7638\n",
      "Epoch 60/100\n"
     ]
    },
    {
     "name": "stdout",
     "output_type": "stream",
     "text": [
      "60000/60000 [==============================] - 0s 7us/step - loss: 0.6227 - acc: 0.7729 - val_loss: 0.6353 - val_acc: 0.7733\n",
      "Epoch 61/100\n",
      "60000/60000 [==============================] - 0s 6us/step - loss: 0.6205 - acc: 0.7789 - val_loss: 0.6468 - val_acc: 0.7652\n",
      "Epoch 62/100\n",
      "60000/60000 [==============================] - 0s 6us/step - loss: 0.6212 - acc: 0.7762 - val_loss: 0.6417 - val_acc: 0.7677\n",
      "Epoch 63/100\n",
      "60000/60000 [==============================] - 0s 6us/step - loss: 0.6167 - acc: 0.7802 - val_loss: 0.6453 - val_acc: 0.7648\n",
      "Epoch 64/100\n",
      "60000/60000 [==============================] - 0s 7us/step - loss: 0.6088 - acc: 0.7770 - val_loss: 0.6296 - val_acc: 0.7703\n",
      "Epoch 65/100\n",
      "60000/60000 [==============================] - 0s 7us/step - loss: 0.6115 - acc: 0.7792 - val_loss: 0.6320 - val_acc: 0.7838\n",
      "Epoch 66/100\n",
      "60000/60000 [==============================] - 0s 6us/step - loss: 0.6391 - acc: 0.7730 - val_loss: 0.6633 - val_acc: 0.7619\n",
      "Epoch 67/100\n",
      "60000/60000 [==============================] - 0s 6us/step - loss: 0.5998 - acc: 0.7808 - val_loss: 0.6217 - val_acc: 0.7662\n",
      "Epoch 68/100\n",
      "60000/60000 [==============================] - 0s 6us/step - loss: 0.6036 - acc: 0.7901 - val_loss: 0.6351 - val_acc: 0.7759\n",
      "Epoch 69/100\n",
      "60000/60000 [==============================] - 0s 6us/step - loss: 0.5899 - acc: 0.7944 - val_loss: 0.6303 - val_acc: 0.7777\n",
      "Epoch 70/100\n",
      "60000/60000 [==============================] - 0s 6us/step - loss: 0.5982 - acc: 0.7851 - val_loss: 0.6721 - val_acc: 0.7728\n",
      "Epoch 71/100\n",
      "60000/60000 [==============================] - 0s 6us/step - loss: 0.6164 - acc: 0.7847 - val_loss: 0.6314 - val_acc: 0.7756\n",
      "Epoch 72/100\n",
      "60000/60000 [==============================] - 0s 6us/step - loss: 0.5976 - acc: 0.7894 - val_loss: 0.6127 - val_acc: 0.7878\n",
      "Epoch 73/100\n",
      "60000/60000 [==============================] - 0s 6us/step - loss: 0.5905 - acc: 0.7900 - val_loss: 0.6159 - val_acc: 0.7824\n",
      "Epoch 74/100\n",
      "60000/60000 [==============================] - 0s 7us/step - loss: 0.5898 - acc: 0.7873 - val_loss: 0.6246 - val_acc: 0.7757\n",
      "Epoch 75/100\n",
      "60000/60000 [==============================] - 0s 6us/step - loss: 0.6100 - acc: 0.7840 - val_loss: 0.6224 - val_acc: 0.7812\n",
      "Epoch 76/100\n",
      "60000/60000 [==============================] - 0s 6us/step - loss: 0.5959 - acc: 0.7868 - val_loss: 0.6653 - val_acc: 0.7449\n",
      "Epoch 77/100\n",
      "60000/60000 [==============================] - 0s 7us/step - loss: 0.6086 - acc: 0.7873 - val_loss: 0.6164 - val_acc: 0.7793\n",
      "Epoch 78/100\n",
      "60000/60000 [==============================] - 0s 6us/step - loss: 0.6058 - acc: 0.7854 - val_loss: 0.6393 - val_acc: 0.7659\n",
      "Epoch 79/100\n",
      "60000/60000 [==============================] - 0s 6us/step - loss: 0.6114 - acc: 0.7852 - val_loss: 0.6209 - val_acc: 0.7848\n",
      "Epoch 80/100\n",
      "60000/60000 [==============================] - 0s 6us/step - loss: 0.6050 - acc: 0.7833 - val_loss: 0.6165 - val_acc: 0.7743\n",
      "Epoch 81/100\n",
      "60000/60000 [==============================] - 0s 6us/step - loss: 0.5969 - acc: 0.7903 - val_loss: 0.6234 - val_acc: 0.7763\n",
      "Epoch 82/100\n",
      "60000/60000 [==============================] - 0s 6us/step - loss: 0.5955 - acc: 0.7888 - val_loss: 0.6205 - val_acc: 0.7757\n",
      "Epoch 83/100\n",
      "60000/60000 [==============================] - 0s 7us/step - loss: 0.5834 - acc: 0.7919 - val_loss: 0.6248 - val_acc: 0.7690\n",
      "Epoch 84/100\n",
      "60000/60000 [==============================] - 0s 6us/step - loss: 0.5818 - acc: 0.7967 - val_loss: 0.6497 - val_acc: 0.7479\n",
      "Epoch 85/100\n",
      "60000/60000 [==============================] - 0s 6us/step - loss: 0.5881 - acc: 0.7868 - val_loss: 0.6138 - val_acc: 0.7774\n",
      "Epoch 86/100\n",
      "60000/60000 [==============================] - 0s 6us/step - loss: 0.5831 - acc: 0.7960 - val_loss: 0.5951 - val_acc: 0.7965\n",
      "Epoch 87/100\n",
      "60000/60000 [==============================] - 0s 6us/step - loss: 0.5678 - acc: 0.8037 - val_loss: 0.6086 - val_acc: 0.7884\n",
      "Epoch 88/100\n",
      "60000/60000 [==============================] - 0s 6us/step - loss: 0.5901 - acc: 0.7857 - val_loss: 0.5938 - val_acc: 0.7789\n",
      "Epoch 89/100\n",
      "60000/60000 [==============================] - 0s 7us/step - loss: 0.5758 - acc: 0.7947 - val_loss: 0.6174 - val_acc: 0.7720\n",
      "Epoch 90/100\n",
      "60000/60000 [==============================] - 0s 6us/step - loss: 0.5815 - acc: 0.7885 - val_loss: 0.6005 - val_acc: 0.7918\n",
      "Epoch 91/100\n",
      "60000/60000 [==============================] - 0s 7us/step - loss: 0.5821 - acc: 0.7958 - val_loss: 0.6456 - val_acc: 0.7739\n",
      "Epoch 92/100\n",
      "60000/60000 [==============================] - 0s 7us/step - loss: 0.5917 - acc: 0.7944 - val_loss: 0.5997 - val_acc: 0.7926\n",
      "Epoch 93/100\n",
      "60000/60000 [==============================] - 0s 6us/step - loss: 0.5581 - acc: 0.7996 - val_loss: 0.5870 - val_acc: 0.7786\n",
      "Epoch 94/100\n",
      "60000/60000 [==============================] - 0s 6us/step - loss: 0.5828 - acc: 0.7905 - val_loss: 0.5994 - val_acc: 0.7851\n",
      "Epoch 95/100\n",
      "60000/60000 [==============================] - 0s 6us/step - loss: 0.5600 - acc: 0.7989 - val_loss: 0.5812 - val_acc: 0.7890\n",
      "Epoch 96/100\n",
      "60000/60000 [==============================] - 0s 6us/step - loss: 0.5588 - acc: 0.8021 - val_loss: 0.5778 - val_acc: 0.7959\n",
      "Epoch 97/100\n",
      "60000/60000 [==============================] - 0s 7us/step - loss: 0.5646 - acc: 0.8000 - val_loss: 0.6150 - val_acc: 0.7915\n",
      "Epoch 98/100\n",
      "60000/60000 [==============================] - 0s 7us/step - loss: 0.5615 - acc: 0.8015 - val_loss: 0.5734 - val_acc: 0.7982\n",
      "Epoch 99/100\n",
      "60000/60000 [==============================] - 0s 6us/step - loss: 0.5551 - acc: 0.8042 - val_loss: 0.6247 - val_acc: 0.7630\n",
      "Epoch 100/100\n",
      "60000/60000 [==============================] - 0s 7us/step - loss: 0.5662 - acc: 0.7930 - val_loss: 0.6117 - val_acc: 0.7807\n"
     ]
    }
   ],
   "source": [
    "# Обучаем модель! \n",
    "history = model.fit(x_train, y_train,\n",
    "              batch_size=batch_size,\n",
    "              epochs=epochs,\n",
    "              validation_data=(x_test, y_test),\n",
    "              shuffle=True)"
   ]
  },
  {
   "cell_type": "code",
   "execution_count": 18,
   "metadata": {},
   "outputs": [
    {
     "data": {
      "image/png": "[encoded data removed]",
      "text/plain": [
       "<Figure size 432x288 with 1 Axes>"
      ]
     },
     "metadata": {
      "needs_background": "light"
     },
     "output_type": "display_data"
    }
   ],
   "source": [
    "plt.plot(history.history['acc'], label='train')\n",
    "plt.plot(history.history['val_acc'], label='val')\n",
    "plt.xlabel('Epoch')\n",
    "plt.ylabel('Acc')\n",
    "plt.legend()\n",
    "plt.show()"
   ]
  },
  {
   "cell_type": "markdown",
   "metadata": {},
   "source": [
    "Измените сеть выше, добавив еще один скрытый слой `Dense()` с 10 нейронами и перезапустите обучение"
   ]
  },
  {
   "cell_type": "markdown",
   "metadata": {},
   "source": [
    "## Что мы можем улучшить? \n",
    "- Отнормировать признаки\n",
    "- Заменить сигмоиды на ReLu\n",
    "- Задать правила инициации весов"
   ]
  },
  {
   "cell_type": "markdown",
   "metadata": {},
   "source": [
    "### Нормирование\n",
    "<img src='normalize.png'>"
   ]
  },
  {
   "cell_type": "markdown",
   "metadata": {},
   "source": [
    "Нормализуйте данные:"
   ]
  },
  {
   "cell_type": "code",
   "execution_count": 20,
   "metadata": {},
   "outputs": [],
   "source": [
    "# Ваш код здесь\n",
    "x_train = (x_train/255)*2-1\n",
    "x_test = (x_test/255)*2-1"
   ]
  },
  {
   "cell_type": "markdown",
   "metadata": {},
   "source": [
    "### Функции активации\n",
    "<img src='activations.png'>"
   ]
  },
  {
   "cell_type": "markdown",
   "metadata": {},
   "source": [
    "### Инициациия весов\n",
    "__Случайно__  \n",
    "$ w = a * random$, но тогда если $a \\gg 1$, то на выходе $b\\gg1$ и если $a \\ll 1 $, то $b \\approx 0 $  \n",
    "\n",
    "__Xavier__  \n",
    "$a = \\frac{1}{\\sqrt{n}}$, где $n$ - кол-во нейронов на входе\n",
    "\n",
    "__He__  \n",
    "$a = \\frac{1}{\\sqrt{\\frac{n}{2}}}$, где $n$ - кол-во нейронов на входе"
   ]
  },
  {
   "cell_type": "code",
   "execution_count": 23,
   "metadata": {
    "collapsed": true
   },
   "outputs": [],
   "source": [
    "from keras.initializers import he_normal"
   ]
  },
  {
   "cell_type": "markdown",
   "metadata": {},
   "source": [
    "Напишите функцию `create_model()` создания и компиляции нейронной сети со следующей архитектурой:\n",
    "- Полносвязный слой с 20 нейронами\n",
    "- Полносвязный слой с 10 нейронами\n",
    "- Полносвязный слой с 10 нейронами\n",
    "Для компиляции используйте категориальный лосс и метрику `accuracy`. `optimizer` должен задаваться в параметре. \n",
    "Добавьте к каждому `Dense` слою функцию инициации весов `he_normal` и функцию активации `ReLU`: "
   ]
  },
  {
   "cell_type": "code",
   "execution_count": 24,
   "metadata": {
    "collapsed": true
   },
   "outputs": [],
   "source": [
    "def create_model(input_shape, optimizer):\n",
    "    model = Sequential()\n",
    "    model.add(Flatten(input_shape=input_shape))\n",
    "    model.add(Dense(20, kernel_initializer=he_normal()))\n",
    "    model.add(Activation('relu'))\n",
    "    model.add(Dense(10, kernel_initializer=he_normal()))\n",
    "    model.add(Activation('relu'))\n",
    "    model.add(Dense(10))\n",
    "    model.add(Activation('softmax'))\n",
    "    model.compile(optimizer=optimizer, loss='categorical_crossentropy', metrics=['accuracy'])\n",
    "    return model"
   ]
  },
  {
   "cell_type": "code",
   "execution_count": 25,
   "metadata": {},
   "outputs": [],
   "source": [
    "optimizer = SGD(lr=0.1)\n",
    "model = create_model(input_shape, optimizer)"
   ]
  },
  {
   "cell_type": "code",
   "execution_count": 26,
   "metadata": {
    "scrolled": true
   },
   "outputs": [
    {
     "name": "stdout",
     "output_type": "stream",
     "text": [
      "Train on 60000 samples, validate on 10000 samples\n",
      "Epoch 1/100\n",
      "60000/60000 [==============================] - 1s 20us/step - loss: 1.2407 - acc: 0.5672 - val_loss: 0.7991 - val_acc: 0.7015\n",
      "Epoch 2/100\n",
      "60000/60000 [==============================] - 1s 13us/step - loss: 0.7216 - acc: 0.7367 - val_loss: 0.6501 - val_acc: 0.7622\n",
      "Epoch 3/100\n",
      "60000/60000 [==============================] - 1s 11us/step - loss: 0.6117 - acc: 0.7769 - val_loss: 0.6266 - val_acc: 0.7712\n",
      "Epoch 4/100\n",
      "60000/60000 [==============================] - 1s 13us/step - loss: 0.5712 - acc: 0.7914 - val_loss: 0.5944 - val_acc: 0.7842\n",
      "Epoch 5/100\n",
      "60000/60000 [==============================] - 1s 12us/step - loss: 0.5376 - acc: 0.8032 - val_loss: 0.5224 - val_acc: 0.8138\n",
      "Epoch 6/100\n",
      "60000/60000 [==============================] - 1s 16us/step - loss: 0.5164 - acc: 0.8127 - val_loss: 0.5356 - val_acc: 0.8042\n",
      "Epoch 7/100\n",
      "60000/60000 [==============================] - 1s 14us/step - loss: 0.4942 - acc: 0.8209 - val_loss: 0.5194 - val_acc: 0.8169\n",
      "Epoch 8/100\n",
      "60000/60000 [==============================] - 1s 19us/step - loss: 0.4771 - acc: 0.8277 - val_loss: 0.5012 - val_acc: 0.8185\n",
      "Epoch 9/100\n",
      "60000/60000 [==============================] - 1s 15us/step - loss: 0.4616 - acc: 0.8343 - val_loss: 0.5179 - val_acc: 0.8103\n",
      "Epoch 10/100\n",
      "60000/60000 [==============================] - 1s 10us/step - loss: 0.4589 - acc: 0.8336 - val_loss: 0.4979 - val_acc: 0.8212\n",
      "Epoch 11/100\n",
      "60000/60000 [==============================] - 1s 13us/step - loss: 0.4533 - acc: 0.8361 - val_loss: 0.4875 - val_acc: 0.8273\n",
      "Epoch 12/100\n",
      "60000/60000 [==============================] - 1s 11us/step - loss: 0.4442 - acc: 0.8395 - val_loss: 0.4816 - val_acc: 0.8265\n",
      "Epoch 13/100\n",
      "60000/60000 [==============================] - 1s 17us/step - loss: 0.4334 - acc: 0.8439 - val_loss: 0.5050 - val_acc: 0.8183\n",
      "Epoch 14/100\n",
      "60000/60000 [==============================] - 1s 13us/step - loss: 0.4301 - acc: 0.8454 - val_loss: 0.4511 - val_acc: 0.8392\n",
      "Epoch 15/100\n",
      "60000/60000 [==============================] - 1s 15us/step - loss: 0.4209 - acc: 0.8489 - val_loss: 0.4565 - val_acc: 0.8385\n",
      "Epoch 16/100\n",
      "60000/60000 [==============================] - 1s 11us/step - loss: 0.4191 - acc: 0.8481 - val_loss: 0.4886 - val_acc: 0.8259\n",
      "Epoch 17/100\n",
      "60000/60000 [==============================] - 1s 10us/step - loss: 0.4150 - acc: 0.8503 - val_loss: 0.4537 - val_acc: 0.8368\n",
      "Epoch 18/100\n",
      "60000/60000 [==============================] - 1s 9us/step - loss: 0.4060 - acc: 0.8542 - val_loss: 0.4448 - val_acc: 0.8421\n",
      "Epoch 19/100\n",
      "60000/60000 [==============================] - 1s 9us/step - loss: 0.4016 - acc: 0.8553 - val_loss: 0.4334 - val_acc: 0.8478\n",
      "Epoch 20/100\n",
      "60000/60000 [==============================] - 1s 9us/step - loss: 0.3969 - acc: 0.8573 - val_loss: 0.4400 - val_acc: 0.8431\n",
      "Epoch 21/100\n",
      "60000/60000 [==============================] - 1s 9us/step - loss: 0.3980 - acc: 0.8560 - val_loss: 0.4291 - val_acc: 0.8457\n",
      "Epoch 22/100\n",
      "60000/60000 [==============================] - 1s 9us/step - loss: 0.3949 - acc: 0.8588 - val_loss: 0.4235 - val_acc: 0.8480\n",
      "Epoch 23/100\n",
      "60000/60000 [==============================] - 1s 9us/step - loss: 0.3926 - acc: 0.8569 - val_loss: 0.4559 - val_acc: 0.8366\n",
      "Epoch 24/100\n",
      "60000/60000 [==============================] - 1s 9us/step - loss: 0.3834 - acc: 0.8615 - val_loss: 0.4331 - val_acc: 0.8449\n",
      "Epoch 25/100\n",
      "60000/60000 [==============================] - 1s 9us/step - loss: 0.3836 - acc: 0.8599 - val_loss: 0.4235 - val_acc: 0.8477\n",
      "Epoch 26/100\n",
      "60000/60000 [==============================] - 1s 9us/step - loss: 0.3795 - acc: 0.8625 - val_loss: 0.4174 - val_acc: 0.8516\n",
      "Epoch 27/100\n",
      "60000/60000 [==============================] - 1s 9us/step - loss: 0.3723 - acc: 0.8652 - val_loss: 0.4283 - val_acc: 0.8467\n",
      "Epoch 28/100\n",
      "60000/60000 [==============================] - 1s 9us/step - loss: 0.3781 - acc: 0.8632 - val_loss: 0.4377 - val_acc: 0.8416\n",
      "Epoch 29/100\n",
      "60000/60000 [==============================] - 1s 9us/step - loss: 0.3749 - acc: 0.8639 - val_loss: 0.4151 - val_acc: 0.8502\n",
      "Epoch 30/100\n",
      "60000/60000 [==============================] - 1s 9us/step - loss: 0.3682 - acc: 0.8670 - val_loss: 0.4514 - val_acc: 0.8419\n",
      "Epoch 31/100\n",
      "60000/60000 [==============================] - 1s 9us/step - loss: 0.3660 - acc: 0.8676 - val_loss: 0.4227 - val_acc: 0.8494\n",
      "Epoch 32/100\n",
      "60000/60000 [==============================] - 1s 9us/step - loss: 0.3666 - acc: 0.8681 - val_loss: 0.4086 - val_acc: 0.8549\n",
      "Epoch 33/100\n",
      "60000/60000 [==============================] - 1s 9us/step - loss: 0.3564 - acc: 0.8705 - val_loss: 0.4084 - val_acc: 0.8547\n",
      "Epoch 34/100\n",
      "60000/60000 [==============================] - 1s 9us/step - loss: 0.3615 - acc: 0.8690 - val_loss: 0.4342 - val_acc: 0.8437\n",
      "Epoch 35/100\n",
      "60000/60000 [==============================] - 1s 9us/step - loss: 0.3695 - acc: 0.8658 - val_loss: 0.4196 - val_acc: 0.8502\n",
      "Epoch 36/100\n",
      "60000/60000 [==============================] - 1s 9us/step - loss: 0.3639 - acc: 0.8681 - val_loss: 0.4351 - val_acc: 0.8451\n",
      "Epoch 37/100\n",
      "60000/60000 [==============================] - 1s 9us/step - loss: 0.3548 - acc: 0.8712 - val_loss: 0.4207 - val_acc: 0.8543\n",
      "Epoch 38/100\n",
      "60000/60000 [==============================] - 1s 9us/step - loss: 0.3509 - acc: 0.8729 - val_loss: 0.4055 - val_acc: 0.8582\n",
      "Epoch 39/100\n",
      "60000/60000 [==============================] - 1s 9us/step - loss: 0.3489 - acc: 0.8722 - val_loss: 0.4282 - val_acc: 0.8517\n",
      "Epoch 40/100\n",
      "60000/60000 [==============================] - 1s 9us/step - loss: 0.3542 - acc: 0.8711 - val_loss: 0.4077 - val_acc: 0.8540\n",
      "Epoch 41/100\n",
      "60000/60000 [==============================] - 1s 9us/step - loss: 0.3460 - acc: 0.8750 - val_loss: 0.4079 - val_acc: 0.8557\n",
      "Epoch 42/100\n",
      "60000/60000 [==============================] - 1s 9us/step - loss: 0.3526 - acc: 0.8724 - val_loss: 0.4017 - val_acc: 0.8586\n",
      "Epoch 43/100\n",
      "60000/60000 [==============================] - 1s 9us/step - loss: 0.3485 - acc: 0.8739 - val_loss: 0.4041 - val_acc: 0.8549\n",
      "Epoch 44/100\n",
      "60000/60000 [==============================] - 1s 9us/step - loss: 0.3483 - acc: 0.8740 - val_loss: 0.3960 - val_acc: 0.8584\n",
      "Epoch 45/100\n",
      "60000/60000 [==============================] - 1s 9us/step - loss: 0.3496 - acc: 0.8732 - val_loss: 0.3980 - val_acc: 0.8574\n",
      "Epoch 46/100\n",
      "60000/60000 [==============================] - 1s 9us/step - loss: 0.3463 - acc: 0.8744 - val_loss: 0.4042 - val_acc: 0.8601\n",
      "Epoch 47/100\n",
      "60000/60000 [==============================] - 1s 9us/step - loss: 0.3410 - acc: 0.8766 - val_loss: 0.4143 - val_acc: 0.8514\n",
      "Epoch 48/100\n",
      "60000/60000 [==============================] - 1s 9us/step - loss: 0.3383 - acc: 0.8767 - val_loss: 0.4018 - val_acc: 0.8560\n",
      "Epoch 49/100\n",
      "60000/60000 [==============================] - 1s 9us/step - loss: 0.3339 - acc: 0.8795 - val_loss: 0.3992 - val_acc: 0.8594\n",
      "Epoch 50/100\n",
      "60000/60000 [==============================] - 1s 9us/step - loss: 0.3469 - acc: 0.8740 - val_loss: 0.4056 - val_acc: 0.8577\n",
      "Epoch 51/100\n",
      "60000/60000 [==============================] - 1s 9us/step - loss: 0.3345 - acc: 0.8782 - val_loss: 0.4096 - val_acc: 0.8534\n",
      "Epoch 52/100\n",
      "60000/60000 [==============================] - 1s 9us/step - loss: 0.3409 - acc: 0.8751 - val_loss: 0.3947 - val_acc: 0.8580\n",
      "Epoch 53/100\n",
      "60000/60000 [==============================] - 1s 9us/step - loss: 0.3335 - acc: 0.8794 - val_loss: 0.4184 - val_acc: 0.8548\n",
      "Epoch 54/100\n",
      "60000/60000 [==============================] - 1s 9us/step - loss: 0.3300 - acc: 0.8797 - val_loss: 0.3929 - val_acc: 0.8616\n",
      "Epoch 55/100\n",
      "60000/60000 [==============================] - 1s 9us/step - loss: 0.3316 - acc: 0.8795 - val_loss: 0.4136 - val_acc: 0.8506\n",
      "Epoch 56/100\n",
      "60000/60000 [==============================] - 1s 9us/step - loss: 0.3306 - acc: 0.8796 - val_loss: 0.3987 - val_acc: 0.8608\n",
      "Epoch 57/100\n",
      "60000/60000 [==============================] - 1s 9us/step - loss: 0.3299 - acc: 0.8799 - val_loss: 0.4057 - val_acc: 0.8576\n",
      "Epoch 58/100\n",
      "60000/60000 [==============================] - 1s 9us/step - loss: 0.3308 - acc: 0.8799 - val_loss: 0.3952 - val_acc: 0.8581\n",
      "Epoch 59/100\n",
      "60000/60000 [==============================] - 1s 9us/step - loss: 0.3349 - acc: 0.8787 - val_loss: 0.4290 - val_acc: 0.8472\n"
     ]
    },
    {
     "name": "stdout",
     "output_type": "stream",
     "text": [
      "Epoch 60/100\n",
      "60000/60000 [==============================] - 1s 9us/step - loss: 0.3331 - acc: 0.8772 - val_loss: 0.3913 - val_acc: 0.8625\n",
      "Epoch 61/100\n",
      "60000/60000 [==============================] - 1s 9us/step - loss: 0.3243 - acc: 0.8823 - val_loss: 0.3943 - val_acc: 0.8593\n",
      "Epoch 62/100\n",
      "60000/60000 [==============================] - 1s 9us/step - loss: 0.3173 - acc: 0.8855 - val_loss: 0.3961 - val_acc: 0.8614\n",
      "Epoch 63/100\n",
      "60000/60000 [==============================] - 1s 9us/step - loss: 0.3240 - acc: 0.8823 - val_loss: 0.4316 - val_acc: 0.8489\n",
      "Epoch 64/100\n",
      "60000/60000 [==============================] - 1s 9us/step - loss: 0.3210 - acc: 0.8839 - val_loss: 0.4140 - val_acc: 0.8535\n",
      "Epoch 65/100\n",
      "60000/60000 [==============================] - 1s 20us/step - loss: 0.3222 - acc: 0.8830 - val_loss: 0.3902 - val_acc: 0.8654\n",
      "Epoch 66/100\n",
      "60000/60000 [==============================] - 1s 17us/step - loss: 0.3198 - acc: 0.8824 - val_loss: 0.3900 - val_acc: 0.8618\n",
      "Epoch 67/100\n",
      "60000/60000 [==============================] - 1s 21us/step - loss: 0.3258 - acc: 0.8809 - val_loss: 0.4067 - val_acc: 0.8591\n",
      "Epoch 68/100\n",
      "60000/60000 [==============================] - 1s 13us/step - loss: 0.3199 - acc: 0.8830 - val_loss: 0.3958 - val_acc: 0.8619\n",
      "Epoch 69/100\n",
      "60000/60000 [==============================] - 1s 10us/step - loss: 0.3150 - acc: 0.8857 - val_loss: 0.3994 - val_acc: 0.8611\n",
      "Epoch 70/100\n",
      "60000/60000 [==============================] - 1s 9us/step - loss: 0.3203 - acc: 0.8831 - val_loss: 0.3915 - val_acc: 0.8615\n",
      "Epoch 71/100\n",
      "60000/60000 [==============================] - 1s 9us/step - loss: 0.3224 - acc: 0.8827 - val_loss: 0.3893 - val_acc: 0.8638\n",
      "Epoch 72/100\n",
      "60000/60000 [==============================] - 1s 9us/step - loss: 0.3120 - acc: 0.8856 - val_loss: 0.4257 - val_acc: 0.8537\n",
      "Epoch 73/100\n",
      "60000/60000 [==============================] - 1s 9us/step - loss: 0.3147 - acc: 0.8842 - val_loss: 0.3969 - val_acc: 0.8605\n",
      "Epoch 74/100\n",
      "60000/60000 [==============================] - 1s 9us/step - loss: 0.3185 - acc: 0.8837 - val_loss: 0.3930 - val_acc: 0.8630\n",
      "Epoch 75/100\n",
      "60000/60000 [==============================] - 1s 9us/step - loss: 0.3131 - acc: 0.8850 - val_loss: 0.3994 - val_acc: 0.8572\n",
      "Epoch 76/100\n",
      "60000/60000 [==============================] - 1s 9us/step - loss: 0.3196 - acc: 0.8839 - val_loss: 0.4034 - val_acc: 0.8606\n",
      "Epoch 77/100\n",
      "60000/60000 [==============================] - 1s 9us/step - loss: 0.3169 - acc: 0.8845 - val_loss: 0.4247 - val_acc: 0.8533\n",
      "Epoch 78/100\n",
      "60000/60000 [==============================] - 1s 9us/step - loss: 0.3096 - acc: 0.8871 - val_loss: 0.4057 - val_acc: 0.8574\n",
      "Epoch 79/100\n",
      "60000/60000 [==============================] - 1s 9us/step - loss: 0.3077 - acc: 0.8886 - val_loss: 0.4229 - val_acc: 0.8521\n",
      "Epoch 80/100\n",
      "60000/60000 [==============================] - 1s 9us/step - loss: 0.3129 - acc: 0.8864 - val_loss: 0.4065 - val_acc: 0.8580\n",
      "Epoch 81/100\n",
      "60000/60000 [==============================] - 1s 9us/step - loss: 0.3016 - acc: 0.8901 - val_loss: 0.3899 - val_acc: 0.8631\n",
      "Epoch 82/100\n",
      "60000/60000 [==============================] - 1s 9us/step - loss: 0.3091 - acc: 0.8877 - val_loss: 0.4060 - val_acc: 0.8602\n",
      "Epoch 83/100\n",
      "60000/60000 [==============================] - 1s 9us/step - loss: 0.3063 - acc: 0.8884 - val_loss: 0.4041 - val_acc: 0.8567\n",
      "Epoch 84/100\n",
      "60000/60000 [==============================] - 1s 9us/step - loss: 0.2991 - acc: 0.8921 - val_loss: 0.4034 - val_acc: 0.8581\n",
      "Epoch 85/100\n",
      "60000/60000 [==============================] - 1s 9us/step - loss: 0.3065 - acc: 0.8871 - val_loss: 0.4130 - val_acc: 0.8530\n",
      "Epoch 86/100\n",
      "60000/60000 [==============================] - 1s 9us/step - loss: 0.3053 - acc: 0.8900 - val_loss: 0.3846 - val_acc: 0.8645\n",
      "Epoch 87/100\n",
      "60000/60000 [==============================] - 1s 9us/step - loss: 0.3012 - acc: 0.8900 - val_loss: 0.3860 - val_acc: 0.8650\n",
      "Epoch 88/100\n",
      "60000/60000 [==============================] - 1s 9us/step - loss: 0.3075 - acc: 0.8871 - val_loss: 0.4027 - val_acc: 0.8578\n",
      "Epoch 89/100\n",
      "60000/60000 [==============================] - 1s 9us/step - loss: 0.2992 - acc: 0.8904 - val_loss: 0.3864 - val_acc: 0.8643\n",
      "Epoch 90/100\n",
      "60000/60000 [==============================] - 1s 9us/step - loss: 0.3078 - acc: 0.8864 - val_loss: 0.3879 - val_acc: 0.8642\n",
      "Epoch 91/100\n",
      "60000/60000 [==============================] - 1s 9us/step - loss: 0.3939 - acc: 0.8639 - val_loss: 0.4120 - val_acc: 0.8558\n",
      "Epoch 92/100\n",
      "60000/60000 [==============================] - 1s 9us/step - loss: 0.3072 - acc: 0.8872 - val_loss: 0.3872 - val_acc: 0.8648\n",
      "Epoch 93/100\n",
      "60000/60000 [==============================] - 1s 17us/step - loss: 0.3042 - acc: 0.8894 - val_loss: 0.3903 - val_acc: 0.8634\n",
      "Epoch 94/100\n",
      "60000/60000 [==============================] - 1s 15us/step - loss: 0.3010 - acc: 0.8894 - val_loss: 0.3858 - val_acc: 0.8675\n",
      "Epoch 95/100\n",
      "60000/60000 [==============================] - 1s 15us/step - loss: 0.3000 - acc: 0.8914 - val_loss: 0.3849 - val_acc: 0.8655\n",
      "Epoch 96/100\n",
      "60000/60000 [==============================] - 1s 23us/step - loss: 0.2989 - acc: 0.8909 - val_loss: 0.3899 - val_acc: 0.8652\n",
      "Epoch 97/100\n",
      "60000/60000 [==============================] - 1s 20us/step - loss: 0.2973 - acc: 0.8913 - val_loss: 0.3936 - val_acc: 0.8617\n",
      "Epoch 98/100\n",
      "60000/60000 [==============================] - 1s 16us/step - loss: 0.3041 - acc: 0.8882 - val_loss: 0.3975 - val_acc: 0.8617\n",
      "Epoch 99/100\n",
      "60000/60000 [==============================] - 1s 14us/step - loss: 0.2981 - acc: 0.8920 - val_loss: 0.3986 - val_acc: 0.8594\n",
      "Epoch 100/100\n",
      "60000/60000 [==============================] - 1s 16us/step - loss: 0.2976 - acc: 0.8905 - val_loss: 0.4082 - val_acc: 0.8582\n"
     ]
    }
   ],
   "source": [
    "history = model.fit(x_train, y_train,\n",
    "              batch_size=batch_size,\n",
    "              epochs=epochs,\n",
    "              validation_data=(x_test, y_test),\n",
    "              shuffle=True)"
   ]
  },
  {
   "cell_type": "code",
   "execution_count": 27,
   "metadata": {},
   "outputs": [
    {
     "data": {
      "image/png": "[encoded data removed]",
      "text/plain": [
       "<Figure size 432x288 with 1 Axes>"
      ]
     },
     "metadata": {
      "needs_background": "light"
     },
     "output_type": "display_data"
    }
   ],
   "source": [
    "def viz_history(history):\n",
    "    plt.plot(history.history['acc'], label='train')\n",
    "    plt.plot(history.history['val_acc'], label='val')\n",
    "    plt.xlabel('Epoch')\n",
    "    plt.ylabel('Acc')\n",
    "    plt.legend()\n",
    "    plt.show()\n",
    "\n",
    "viz_history(history)"
   ]
  },
  {
   "cell_type": "markdown",
   "metadata": {},
   "source": [
    "## Влияние скорости обучения\n",
    "Посмотрим, как влияет параметр `learning_rate` на качество нашей модели на обучающей выборке.  \n",
    "Задайте `learning_rate` значениями `[0.001, 0.01, 0.1, 1]` и постройте графики acc для каждого значения:"
   ]
  },
  {
   "cell_type": "code",
   "execution_count": 28,
   "metadata": {
    "scrolled": true
   },
   "outputs": [
    {
     "name": "stderr",
     "output_type": "stream",
     "text": [
      "100%|██████████| 4/4 [03:38<00:00, 55.08s/it]\n"
     ]
    },
    {
     "data": {
      "image/png": "[encoded data removed]",
      "text/plain": [
       "<Figure size 432x288 with 1 Axes>"
      ]
     },
     "metadata": {
      "needs_background": "light"
     },
     "output_type": "display_data"
    }
   ],
   "source": [
    "for i in tqdm([0.001, 0.01, 0.1, 0.5]):\n",
    "    optimizer = SGD(lr=i)\n",
    "    model = create_model(input_shape, optimizer)\n",
    "    history = model.fit(x_train, y_train, verbose=0,\n",
    "              batch_size=batch_size,\n",
    "              epochs=epochs,\n",
    "              validation_data=(x_test, y_test),\n",
    "              shuffle=True)\n",
    "    plt.plot(history.history['val_acc'], label='learning rate = {}'.format(i))\n",
    "    \n",
    "\n",
    "    \n",
    "plt.xlabel('Epoch')\n",
    "plt.ylabel('Acc')\n",
    "plt.legend()\n",
    "plt.show()"
   ]
  },
  {
   "cell_type": "markdown",
   "metadata": {},
   "source": [
    "## Влияние метода оптимизации градиентного спуска"
   ]
  },
  {
   "cell_type": "markdown",
   "metadata": {},
   "source": [
    "<img src='optimizers7.gif'>"
   ]
  },
  {
   "cell_type": "markdown",
   "metadata": {},
   "source": [
    "#### Momentum\n",
    "Вместо того, чтобы использовать только градиент текущего шага, мы будем накапливать импульс градиента прошлых шагов для определения направления движения. \n",
    "В связи со стохастической природой, обновления градиента происходят \"зигзагообразно\", с помощью момента мы усиливаем движение вдоль основного направления. На практике коэффициент у момента инициализируется на уровне 0,5 и постепенно увеличивается до 0,9 в течение нескольких эпох. \n",
    "  \n",
    "#### RMSProp (Root Mean Square Propogation)   \n",
    "Мы обновляяем меньше веса, которые слишком часто обновляются, и будем использовать усреднённый по истории квадрат градиента.\n",
    "\n",
    "#### Adam (Adaptive moment estimation)\n",
    "Cочетает в себе и идею накопления движения и идею более слабого обновления весов для типичных признаков"
   ]
  },
  {
   "cell_type": "markdown",
   "metadata": {},
   "source": [
    "Постройте графики зависимости качества обучения на валидационной выборе для разных оптимизаторов:\n",
    "    - SGD with Momentum\n",
    "    - Adam\n",
    "    - RMSprop"
   ]
  },
  {
   "cell_type": "code",
   "execution_count": null,
   "metadata": {
    "collapsed": true
   },
   "outputs": [],
   "source": [
    "# Ваш код здесь\n",
    "\n",
    "plt.xlabel('Epoch')\n",
    "plt.ylabel('Acc')\n",
    "plt.legend()\n",
    "plt.show()"
   ]
  },
  {
   "cell_type": "markdown",
   "metadata": {},
   "source": [
    "## Применим, все полученные знания"
   ]
  },
  {
   "cell_type": "markdown",
   "metadata": {},
   "source": [
    "Задайте в качестве оптимизатора `Adam()` и обучите модель: "
   ]
  },
  {
   "cell_type": "code",
   "execution_count": null,
   "metadata": {
    "collapsed": true,
    "scrolled": true
   },
   "outputs": [],
   "source": [
    "# Ваш код здесь"
   ]
  },
  {
   "cell_type": "code",
   "execution_count": null,
   "metadata": {
    "collapsed": true
   },
   "outputs": [],
   "source": [
    "viz_history(history)"
   ]
  },
  {
   "cell_type": "markdown",
   "metadata": {},
   "source": [
    "## Объявляем, борьбу с переобучением"
   ]
  },
  {
   "cell_type": "code",
   "execution_count": null,
   "metadata": {
    "collapsed": true
   },
   "outputs": [],
   "source": [
    "from keras.layers import Dropout, BatchNormalization"
   ]
  },
  {
   "cell_type": "markdown",
   "metadata": {},
   "source": [
    "Добавьте  после каждого `Dense` слоя в нашу сеть `Dropout` или `BatchNormalization`:"
   ]
  },
  {
   "cell_type": "code",
   "execution_count": null,
   "metadata": {
    "collapsed": true,
    "scrolled": true
   },
   "outputs": [],
   "source": [
    "# Ваш код здесь"
   ]
  },
  {
   "cell_type": "code",
   "execution_count": null,
   "metadata": {
    "collapsed": true
   },
   "outputs": [],
   "source": [
    "viz_history(history)"
   ]
  },
  {
   "cell_type": "markdown",
   "metadata": {},
   "source": [
    "# Ссылки\n",
    "- [Курс \"Deep learning на пальцах\", лекция 4](https://youtu.be/tnrbx7V9RbA)\n",
    "- [Статья: Оптимизация градиентного спуска](http://ruder.io/optimizing-gradient-descent/)\n",
    "- [Статья: Методы оптимизации нейронных сетей](https://habr.com/ru/post/318970/)"
   ]
  }
 ],
 "metadata": {
  "kernelspec": {
   "display_name": "Python 3",
   "language": "python",
   "name": "python3"
  },
  "language_info": {
   "codemirror_mode": {
    "name": "ipython",
    "version": 3
   },
   "file_extension": ".py",
   "mimetype": "text/x-python",
   "name": "python",
   "nbconvert_exporter": "python",
   "pygments_lexer": "ipython3",
   "version": "3.6.6"
  }
 },
 "nbformat": 4,
 "nbformat_minor": 2
}
